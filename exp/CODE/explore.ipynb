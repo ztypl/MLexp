{
 "cells": [
  {
   "cell_type": "code",
   "execution_count": 32,
   "metadata": {},
   "outputs": [],
   "source": [
    "import numpy as np\n",
    "import matplotlib.pyplot as plt\n",
    "\n",
    "import seaborn as sns\n",
    "from sklearn.svm import LinearSVC, SVC\n",
    "from sklearn.neural_network import MLPClassifier\n",
    "from sklearn.ensemble import RandomForestClassifier, GradientBoostingClassifier\n",
    "from sklearn.utils import resample\n",
    "from sklearn.metrics import classification_report, confusion_matrix, accuracy_score"
   ]
  },
  {
   "cell_type": "code",
   "execution_count": 2,
   "metadata": {},
   "outputs": [],
   "source": [
    "train_X = np.load(\"data/A/train_data.npy\")\n",
    "train_y = np.load(\"data/A/train_label.npy\")\n",
    "test_X = np.load(\"data/A/test_data.npy\")\n",
    "test_y = np.load(\"data/A/test_label.npy\")"
   ]
  },
  {
   "cell_type": "code",
   "execution_count": 3,
   "metadata": {},
   "outputs": [
    {
     "data": {
      "text/plain": [
       "(100000, 30, 120, 3)"
      ]
     },
     "execution_count": 3,
     "metadata": {},
     "output_type": "execute_result"
    }
   ],
   "source": [
    "train_X.shape"
   ]
  },
  {
   "cell_type": "code",
   "execution_count": 4,
   "metadata": {},
   "outputs": [
    {
     "data": {
      "text/plain": [
       "<matplotlib.image.AxesImage at 0x7fbd58152be0>"
      ]
     },
     "execution_count": 4,
     "metadata": {},
     "output_type": "execute_result"
    },
    {
     "data": {
      "image/png": "[encoded data removed]",
      "text/plain": [
       "<matplotlib.figure.Figure at 0x7fbd585b4400>"
      ]
     },
     "metadata": {},
     "output_type": "display_data"
    }
   ],
   "source": [
    "plt.xticks(np.arange(0,120,5))\n",
    "plt.imshow(train_X[0])"
   ]
  },
  {
   "cell_type": "markdown",
   "metadata": {},
   "source": [
    "切片\n",
    "\n",
    "15:40\n",
    "\n",
    "40:65\n",
    "\n",
    "65:90\n",
    "\n",
    "90:115"
   ]
  },
  {
   "cell_type": "code",
   "execution_count": 5,
   "metadata": {},
   "outputs": [],
   "source": [
    "train_X = 255 - np.concatenate((train_X[:,:,15:40,:], train_X[:,:,40:65,:], train_X[:,:,65:90,:], train_X[:,:,90:115,:]))\n",
    "test_X = 255 - np.concatenate((test_X[:,:,15:40,:], test_X[:,:,40:65,:], test_X[:,:,65:90,:], test_X[:,:,90:115,:]))"
   ]
  },
  {
   "cell_type": "code",
   "execution_count": 6,
   "metadata": {},
   "outputs": [],
   "source": [
    "train_y = train_y.view(\"U1\").reshape(-1,4).T.ravel()\n",
    "test_y = test_y.view(\"U1\").reshape(-1,4).T.ravel()"
   ]
  },
  {
   "cell_type": "code",
   "execution_count": 18,
   "metadata": {},
   "outputs": [
    {
     "name": "stdout",
     "output_type": "stream",
     "text": [
      "k\n"
     ]
    },
    {
     "data": {
      "image/png": "[encoded data removed]",
      "text/plain": [
       "<matplotlib.figure.Figure at 0x7fbd5336bb70>"
      ]
     },
     "metadata": {},
     "output_type": "display_data"
    }
   ],
   "source": [
    "i = 157\n",
    "plt.imshow(train_X[i])\n",
    "print(train_y[i])"
   ]
  },
  {
   "cell_type": "code",
   "execution_count": 17,
   "metadata": {},
   "outputs": [
    {
     "name": "stdout",
     "output_type": "stream",
     "text": [
      "k\n"
     ]
    },
    {
     "data": {
      "image/png": "[encoded data removed]",
      "text/plain": [
       "<matplotlib.figure.Figure at 0x7fbd5336b4a8>"
      ]
     },
     "metadata": {},
     "output_type": "display_data"
    }
   ],
   "source": [
    "i = 157\n",
    "plt.imshow(train_X[i,:,:,1] - train_X[i,:,:,2], cmap=plt.cm.gray)\n",
    "print(train_y[i])"
   ]
  },
  {
   "cell_type": "code",
   "execution_count": 45,
   "metadata": {},
   "outputs": [
    {
     "name": "stdout",
     "output_type": "stream",
     "text": [
      "k\n"
     ]
    },
    {
     "data": {
      "image/png": "[encoded data removed]",
      "text/plain": [
       "<matplotlib.figure.Figure at 0x7fbd532c8160>"
      ]
     },
     "metadata": {},
     "output_type": "display_data"
    }
   ],
   "source": [
    "i = 157\n",
    "plt.imshow(0.3 * train_X[i,:,:,0] + 0.59 * train_X[i,:,:,1] + 0.11 * train_X[i,:,:,2], cmap=plt.cm.gray)\n",
    "print(train_y[i])"
   ]
  },
  {
   "cell_type": "markdown",
   "metadata": {},
   "source": [
    "# 去除噪点"
   ]
  },
  {
   "cell_type": "code",
   "execution_count": 40,
   "metadata": {},
   "outputs": [],
   "source": [
    "train_X_s, train_y_s = resample(\n",
    "    train_X, train_y, replace=False, n_samples=10000, random_state=0\n",
    ")\n",
    "\n",
    "test_X_s, test_y_s = resample(\n",
    "    test_X, test_y, replace=False, n_samples=1000, random_state=0\n",
    ")"
   ]
  },
  {
   "cell_type": "code",
   "execution_count": 43,
   "metadata": {},
   "outputs": [],
   "source": [
    "train_1ds_X = (train_X_s[:,:,:,1] - train_X_s[:,:,:,2]).reshape(train_X_s.shape[0], -1)\n",
    "test_1ds_X = (test_X_s[:,:,:,1] - test_X_s[:,:,:,2]).reshape(test_X_s.shape[0], -1)"
   ]
  },
  {
   "cell_type": "code",
   "execution_count": 44,
   "metadata": {},
   "outputs": [
    {
     "name": "stdout",
     "output_type": "stream",
     "text": [
      "             precision    recall  f1-score   support\n",
      "\n",
      "          3       1.00      1.00      1.00        17\n",
      "          4       1.00      1.00      1.00        21\n",
      "          5       1.00      1.00      1.00        26\n",
      "          6       1.00      1.00      1.00        20\n",
      "          7       1.00      1.00      1.00        18\n",
      "          8       1.00      1.00      1.00        16\n",
      "          9       1.00      1.00      1.00        19\n",
      "          A       1.00      1.00      1.00        23\n",
      "          B       1.00      1.00      1.00        20\n",
      "          C       1.00      1.00      1.00        26\n",
      "          D       1.00      1.00      1.00        24\n",
      "          E       1.00      1.00      1.00        26\n",
      "          F       1.00      1.00      1.00        23\n",
      "          G       1.00      1.00      1.00        16\n",
      "          H       1.00      1.00      1.00        24\n",
      "          J       1.00      1.00      1.00        25\n",
      "          K       1.00      1.00      1.00        27\n",
      "          M       1.00      1.00      1.00        19\n",
      "          N       1.00      1.00      1.00        22\n",
      "          P       1.00      1.00      1.00        21\n",
      "          Q       1.00      1.00      1.00        13\n",
      "          R       1.00      1.00      1.00        19\n",
      "          S       1.00      1.00      1.00        20\n",
      "          T       1.00      1.00      1.00        13\n",
      "          U       1.00      1.00      1.00        19\n",
      "          V       1.00      1.00      1.00        13\n",
      "          W       1.00      1.00      1.00        23\n",
      "          X       1.00      1.00      1.00        16\n",
      "          Y       1.00      1.00      1.00        16\n",
      "          a       1.00      1.00      1.00        23\n",
      "          b       1.00      1.00      1.00        24\n",
      "          c       1.00      1.00      1.00        17\n",
      "          d       1.00      1.00      1.00        28\n",
      "          e       1.00      1.00      1.00        23\n",
      "          f       1.00      1.00      1.00        17\n",
      "          g       1.00      1.00      1.00        12\n",
      "          h       1.00      1.00      1.00        19\n",
      "          j       1.00      1.00      1.00        16\n",
      "          k       1.00      1.00      1.00        13\n",
      "          m       1.00      1.00      1.00        22\n",
      "          n       1.00      1.00      1.00        25\n",
      "          p       1.00      1.00      1.00        16\n",
      "          q       1.00      1.00      1.00        16\n",
      "          r       1.00      1.00      1.00        17\n",
      "          s       1.00      1.00      1.00        18\n",
      "          t       1.00      1.00      1.00        12\n",
      "          u       1.00      1.00      1.00        19\n",
      "          v       1.00      1.00      1.00        22\n",
      "          w       1.00      1.00      1.00        18\n",
      "          x       1.00      1.00      1.00        19\n",
      "          y       1.00      1.00      1.00        19\n",
      "\n",
      "avg / total       1.00      1.00      1.00      1000\n",
      "\n"
     ]
    }
   ],
   "source": [
    "model = SVC(kernel='poly',degree=3)\n",
    "model.fit(train_1ds_X, train_y_s)\n",
    "pred_y = model.predict(test_1ds_X)\n",
    "print(classification_report(test_y_s, pred_y))"
   ]
  },
  {
   "cell_type": "markdown",
   "metadata": {},
   "source": [
    "# 不去除噪点"
   ]
  },
  {
   "cell_type": "code",
   "execution_count": 49,
   "metadata": {},
   "outputs": [],
   "source": [
    "train_1ds_X = (0.3 * train_X_s[:,:,:,0] + 0.59 * train_X_s[:,:,:,1] + 0.11 * train_X_s[:,:,:,2]).reshape(train_X_s.shape[0], -1)\n",
    "test_1ds_X = (0.3 * test_X_s[:,:,:,0] + 0.59 * test_X_s[:,:,:,1] + 0.11 * test_X_s[:,:,:,2]).reshape(test_X_s.shape[0], -1)"
   ]
  },
  {
   "cell_type": "code",
   "execution_count": 50,
   "metadata": {},
   "outputs": [
    {
     "name": "stdout",
     "output_type": "stream",
     "text": [
      "             precision    recall  f1-score   support\n",
      "\n",
      "          3       1.00      1.00      1.00        17\n",
      "          4       1.00      1.00      1.00        21\n",
      "          5       0.93      1.00      0.96        26\n",
      "          6       0.95      1.00      0.98        20\n",
      "          7       1.00      1.00      1.00        18\n",
      "          8       1.00      1.00      1.00        16\n",
      "          9       1.00      1.00      1.00        19\n",
      "          A       1.00      0.96      0.98        23\n",
      "          B       1.00      1.00      1.00        20\n",
      "          C       1.00      0.96      0.98        26\n",
      "          D       1.00      1.00      1.00        24\n",
      "          E       0.90      1.00      0.95        26\n",
      "          F       0.95      0.87      0.91        23\n",
      "          G       1.00      1.00      1.00        16\n",
      "          H       1.00      1.00      1.00        24\n",
      "          J       1.00      1.00      1.00        25\n",
      "          K       1.00      1.00      1.00        27\n",
      "          M       1.00      1.00      1.00        19\n",
      "          N       1.00      1.00      1.00        22\n",
      "          P       1.00      1.00      1.00        21\n",
      "          Q       1.00      1.00      1.00        13\n",
      "          R       1.00      1.00      1.00        19\n",
      "          S       1.00      0.95      0.97        20\n",
      "          T       0.87      1.00      0.93        13\n",
      "          U       1.00      1.00      1.00        19\n",
      "          V       1.00      1.00      1.00        13\n",
      "          W       1.00      1.00      1.00        23\n",
      "          X       1.00      1.00      1.00        16\n",
      "          Y       1.00      0.94      0.97        16\n",
      "          a       0.88      1.00      0.94        23\n",
      "          b       0.96      0.96      0.96        24\n",
      "          c       1.00      1.00      1.00        17\n",
      "          d       1.00      0.96      0.98        28\n",
      "          e       1.00      0.91      0.95        23\n",
      "          f       1.00      1.00      1.00        17\n",
      "          g       0.92      1.00      0.96        12\n",
      "          h       0.95      0.95      0.95        19\n",
      "          j       0.94      1.00      0.97        16\n",
      "          k       1.00      1.00      1.00        13\n",
      "          m       1.00      0.95      0.98        22\n",
      "          n       1.00      1.00      1.00        25\n",
      "          p       1.00      1.00      1.00        16\n",
      "          q       1.00      1.00      1.00        16\n",
      "          r       1.00      0.88      0.94        17\n",
      "          s       1.00      1.00      1.00        18\n",
      "          t       1.00      1.00      1.00        12\n",
      "          u       1.00      1.00      1.00        19\n",
      "          v       1.00      1.00      1.00        22\n",
      "          w       1.00      1.00      1.00        18\n",
      "          x       1.00      0.95      0.97        19\n",
      "          y       1.00      1.00      1.00        19\n",
      "\n",
      "avg / total       0.99      0.98      0.98      1000\n",
      "\n"
     ]
    }
   ],
   "source": [
    "model = SVC(kernel='poly',degree=3)\n",
    "model.fit(train_1ds_X, train_y_s)\n",
    "pred_y = model.predict(test_1ds_X)\n",
    "print(classification_report(test_y_s, pred_y))"
   ]
  },
  {
   "cell_type": "code",
   "execution_count": null,
   "metadata": {},
   "outputs": [],
   "source": []
  }
 ],
 "metadata": {
  "kernelspec": {
   "display_name": "Python 3",
   "language": "python",
   "name": "python3"
  },
  "language_info": {
   "codemirror_mode": {
    "name": "ipython",
    "version": 3
   },
   "file_extension": ".py",
   "mimetype": "text/x-python",
   "name": "python",
   "nbconvert_exporter": "python",
   "pygments_lexer": "ipython3",
   "version": "3.5.4"
  }
 },
 "nbformat": 4,
 "nbformat_minor": 2
}
