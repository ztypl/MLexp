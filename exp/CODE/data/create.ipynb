{
 "cells": [
  {
   "cell_type": "code",
   "execution_count": 1,
   "metadata": {},
   "outputs": [],
   "source": [
    "import numpy as np\n",
    "\n",
    "from utils import create_validate_code"
   ]
  },
  {
   "cell_type": "code",
   "execution_count": 7,
   "metadata": {},
   "outputs": [],
   "source": [
    "N = 100000\n",
    "M = 20000\n",
    "train_data = []\n",
    "train_label = []\n",
    "\n",
    "for i in range(N):\n",
    "    a, b = create_validate_code()\n",
    "    train_data.append(np.asarray(a))\n",
    "    train_label.append(b)\n",
    "    \n",
    "np.save(\"A/train_data.npy\", np.array(train_data))\n",
    "np.save(\"A/train_label.npy\", np.array(train_label))\n",
    "\n",
    "test_data = []\n",
    "test_label = []\n",
    "\n",
    "for i in range(M):\n",
    "    a, b = create_validate_code()\n",
    "    test_data.append(np.asarray(a))\n",
    "    test_label.append(b)\n",
    "    \n",
    "np.save(\"A/test_data.npy\", np.array(test_data))\n",
    "np.save(\"A/test_label.npy\", np.array(test_label))"
   ]
  },
  {
   "cell_type": "code",
   "execution_count": 8,
   "metadata": {},
   "outputs": [],
   "source": [
    "N = 100000\n",
    "M = 20000\n",
    "train_data = []\n",
    "train_label = []\n",
    "\n",
    "for i in range(N):\n",
    "    a, b = create_validate_code(draw_lines=False)\n",
    "    train_data.append(np.asarray(a))\n",
    "    train_label.append(b)\n",
    "    \n",
    "np.save(\"B/train_data.npy\", np.array(train_data))\n",
    "np.save(\"B/train_label.npy\", np.array(train_label))\n",
    "\n",
    "test_data = []\n",
    "test_label = []\n",
    "\n",
    "for i in range(M):\n",
    "    a, b = create_validate_code(draw_lines=False)\n",
    "    test_data.append(np.asarray(a))\n",
    "    test_label.append(b)\n",
    "    \n",
    "np.save(\"B/test_data.npy\", np.array(test_data))\n",
    "np.save(\"B/test_label.npy\", np.array(test_label))"
   ]
  },
  {
   "cell_type": "code",
   "execution_count": 9,
   "metadata": {},
   "outputs": [],
   "source": [
    "N = 100000\n",
    "M = 20000\n",
    "train_data = []\n",
    "train_label = []\n",
    "\n",
    "for i in range(N):\n",
    "    a, b = create_validate_code(draw_lines=False, draw_points=False)\n",
    "    train_data.append(np.asarray(a))\n",
    "    train_label.append(b)\n",
    "    \n",
    "np.save(\"C/train_data.npy\", np.array(train_data))\n",
    "np.save(\"C/train_label.npy\", np.array(train_label))\n",
    "\n",
    "test_data = []\n",
    "test_label = []\n",
    "\n",
    "for i in range(M):\n",
    "    a, b = create_validate_code(draw_lines=False, draw_points=False)\n",
    "    test_data.append(np.asarray(a))\n",
    "    test_label.append(b)\n",
    "    \n",
    "np.save(\"C/test_data.npy\", np.array(test_data))\n",
    "np.save(\"C/test_label.npy\", np.array(test_label))"
   ]
  },
  {
   "cell_type": "code",
   "execution_count": null,
   "metadata": {},
   "outputs": [],
   "source": []
  }
 ],
 "metadata": {
  "kernelspec": {
   "display_name": "Python 3",
   "language": "python",
   "name": "python3"
  },
  "language_info": {
   "codemirror_mode": {
    "name": "ipython",
    "version": 3
   },
   "file_extension": ".py",
   "mimetype": "text/x-python",
   "name": "python",
   "nbconvert_exporter": "python",
   "pygments_lexer": "ipython3",
   "version": "3.5.4"
  }
 },
 "nbformat": 4,
 "nbformat_minor": 2
}
