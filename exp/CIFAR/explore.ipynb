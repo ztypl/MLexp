{
 "cells": [
  {
   "cell_type": "code",
   "execution_count": 3,
   "metadata": {},
   "outputs": [],
   "source": [
    "import numpy as np\n",
    "import matplotlib.pyplot as plt\n",
    "import seaborn as sns\n",
    "from sklearn.svm import LinearSVC, SVC\n",
    "from sklearn.neural_network import MLPClassifier\n",
    "from sklearn.ensemble import RandomForestClassifier, GradientBoostingClassifier\n",
    "from sklearn.utils import resample\n",
    "from sklearn.metrics import classification_report, confusion_matrix, accuracy_score\n",
    "\n",
    "from cifar import *"
   ]
  },
  {
   "cell_type": "markdown",
   "metadata": {},
   "source": [
    "# Dataset Tutorial"
   ]
  },
  {
   "cell_type": "code",
   "execution_count": 4,
   "metadata": {},
   "outputs": [],
   "source": [
    "X_train, y_train, X_test, y_test = load_CIFAR10()"
   ]
  },
  {
   "cell_type": "code",
   "execution_count": 3,
   "metadata": {},
   "outputs": [
    {
     "data": {
      "image/png": "[encoded data removed]",
      "text/plain": [
       "<matplotlib.figure.Figure at 0x7efdcea5ccc0>"
      ]
     },
     "metadata": {},
     "output_type": "display_data"
    }
   ],
   "source": [
    "show(X_train[1])"
   ]
  },
  {
   "cell_type": "code",
   "execution_count": 5,
   "metadata": {},
   "outputs": [],
   "source": [
    "X_train_1d = X_train.reshape(X_train.shape[0], -1)\n",
    "X_test_1d = X_test.reshape(X_test.shape[0], -1)"
   ]
  },
  {
   "cell_type": "code",
   "execution_count": 6,
   "metadata": {},
   "outputs": [],
   "source": [
    "X_train_s, y_train_s = resample(\n",
    "    X_train_1d, y_train, replace=False, n_samples=5000, random_state=0\n",
    ")"
   ]
  },
  {
   "cell_type": "markdown",
   "metadata": {},
   "source": [
    "# SVM"
   ]
  },
  {
   "cell_type": "code",
   "execution_count": 19,
   "metadata": {
    "scrolled": true
   },
   "outputs": [
    {
     "name": "stdout",
     "output_type": "stream",
     "text": [
      "             precision    recall  f1-score   support\n",
      "\n",
      "          0       0.43      0.45      0.44      1000\n",
      "          1       0.50      0.44      0.46      1000\n",
      "          2       0.26      0.30      0.28      1000\n",
      "          3       0.23      0.27      0.25      1000\n",
      "          4       0.32      0.32      0.32      1000\n",
      "          5       0.31      0.35      0.33      1000\n",
      "          6       0.43      0.35      0.39      1000\n",
      "          7       0.46      0.39      0.42      1000\n",
      "          8       0.51      0.57      0.54      1000\n",
      "          9       0.47      0.41      0.44      1000\n",
      "\n",
      "avg / total       0.39      0.38      0.39     10000\n",
      "\n"
     ]
    }
   ],
   "source": [
    "model = SVC(kernel='poly',degree=3)\n",
    "model.fit(X_train_s, y_train_s)\n",
    "y_pred = model.predict(X_test_1d)\n",
    "print(classification_report(y_test, y_pred))"
   ]
  },
  {
   "cell_type": "code",
   "execution_count": 20,
   "metadata": {},
   "outputs": [
    {
     "data": {
      "text/plain": [
       "<matplotlib.axes._subplots.AxesSubplot at 0x7efe03678898>"
      ]
     },
     "execution_count": 20,
     "metadata": {},
     "output_type": "execute_result"
    },
    {
     "data": {
      "image/png": "[encoded data removed]",
      "text/plain": [
       "<matplotlib.figure.Figure at 0x7efdb89e2da0>"
      ]
     },
     "metadata": {},
     "output_type": "display_data"
    }
   ],
   "source": [
    "mat = confusion_matrix(y_test, y_pred, labels=list(range(10)))\n",
    "sns.heatmap(mat)"
   ]
  },
  {
   "cell_type": "markdown",
   "metadata": {},
   "source": [
    "# Neural Network"
   ]
  },
  {
   "cell_type": "code",
   "execution_count": 31,
   "metadata": {},
   "outputs": [
    {
     "name": "stdout",
     "output_type": "stream",
     "text": [
      "             precision    recall  f1-score   support\n",
      "\n",
      "          0       0.48      0.62      0.54      1000\n",
      "          1       0.48      0.73      0.58      1000\n",
      "          2       0.31      0.43      0.36      1000\n",
      "          3       0.33      0.31      0.32      1000\n",
      "          4       0.47      0.31      0.37      1000\n",
      "          5       0.42      0.29      0.34      1000\n",
      "          6       0.51      0.52      0.51      1000\n",
      "          7       0.52      0.50      0.51      1000\n",
      "          8       0.77      0.35      0.48      1000\n",
      "          9       0.46      0.51      0.49      1000\n",
      "\n",
      "avg / total       0.48      0.46      0.45     10000\n",
      "\n"
     ]
    }
   ],
   "source": [
    "model = MLPClassifier(hidden_layer_sizes=(800,200), random_state=0)\n",
    "model.fit(X_train_1d, y_train)\n",
    "y_pred = model.predict(X_test_1d)\n",
    "print(classification_report(y_test, y_pred))"
   ]
  },
  {
   "cell_type": "code",
   "execution_count": 32,
   "metadata": {},
   "outputs": [
    {
     "data": {
      "text/plain": [
       "<matplotlib.axes._subplots.AxesSubplot at 0x7efdb6162a58>"
      ]
     },
     "execution_count": 32,
     "metadata": {},
     "output_type": "execute_result"
    },
    {
     "data": {
      "image/png": "[encoded data removed]",
      "text/plain": [
       "<matplotlib.figure.Figure at 0x7efdb5c320f0>"
      ]
     },
     "metadata": {},
     "output_type": "display_data"
    }
   ],
   "source": [
    "mat = confusion_matrix(y_test, y_pred, labels=list(range(10)))\n",
    "sns.heatmap(mat)"
   ]
  },
  {
   "cell_type": "markdown",
   "metadata": {},
   "source": [
    "# Random Forest"
   ]
  },
  {
   "cell_type": "code",
   "execution_count": 33,
   "metadata": {},
   "outputs": [
    {
     "name": "stdout",
     "output_type": "stream",
     "text": [
      "             precision    recall  f1-score   support\n",
      "\n",
      "          0       0.58      0.58      0.58      1000\n",
      "          1       0.55      0.57      0.56      1000\n",
      "          2       0.43      0.34      0.38      1000\n",
      "          3       0.39      0.29      0.33      1000\n",
      "          4       0.44      0.41      0.42      1000\n",
      "          5       0.46      0.43      0.44      1000\n",
      "          6       0.48      0.62      0.54      1000\n",
      "          7       0.53      0.49      0.51      1000\n",
      "          8       0.60      0.64      0.62      1000\n",
      "          9       0.48      0.59      0.53      1000\n",
      "\n",
      "avg / total       0.49      0.50      0.49     10000\n",
      "\n"
     ]
    }
   ],
   "source": [
    "model = RandomForestClassifier(n_estimators=1000, n_jobs=-1)\n",
    "model.fit(X_train_1d, y_train)\n",
    "y_pred = model.predict(X_test_1d)\n",
    "print(classification_report(y_test, y_pred))"
   ]
  },
  {
   "cell_type": "code",
   "execution_count": 34,
   "metadata": {},
   "outputs": [
    {
     "data": {
      "text/plain": [
       "<matplotlib.axes._subplots.AxesSubplot at 0x7efdb5c0a358>"
      ]
     },
     "execution_count": 34,
     "metadata": {},
     "output_type": "execute_result"
    },
    {
     "data": {
      "image/png": "[encoded data removed]",
      "text/plain": [
       "<matplotlib.figure.Figure at 0x7efdb5c2fef0>"
      ]
     },
     "metadata": {},
     "output_type": "display_data"
    }
   ],
   "source": [
    "mat = confusion_matrix(y_test, y_pred, labels=list(range(10)))\n",
    "sns.heatmap(mat)"
   ]
  },
  {
   "cell_type": "markdown",
   "metadata": {},
   "source": [
    "# GBDT"
   ]
  },
  {
   "cell_type": "code",
   "execution_count": 42,
   "metadata": {},
   "outputs": [
    {
     "name": "stdout",
     "output_type": "stream",
     "text": [
      "             precision    recall  f1-score   support\n",
      "\n",
      "          0       0.67      0.66      0.67      1000\n",
      "          1       0.72      0.68      0.70      1000\n",
      "          2       0.48      0.47      0.48      1000\n",
      "          3       0.42      0.44      0.43      1000\n",
      "          4       0.54      0.48      0.51      1000\n",
      "          5       0.51      0.50      0.51      1000\n",
      "          6       0.61      0.69      0.65      1000\n",
      "          7       0.66      0.63      0.64      1000\n",
      "          8       0.70      0.73      0.72      1000\n",
      "          9       0.63      0.66      0.64      1000\n",
      "\n",
      "avg / total       0.60      0.60      0.59     10000\n",
      "\n"
     ]
    },
    {
     "name": "stderr",
     "output_type": "stream",
     "text": [
      "/anaconda/envs/py35/lib/python3.5/site-packages/sklearn/preprocessing/label.py:151: DeprecationWarning: The truth value of an empty array is ambiguous. Returning False, but in future this will result in an error. Use `array.size > 0` to check that an array is not empty.\n",
      "  if diff:\n"
     ]
    }
   ],
   "source": [
    "import lightgbm as lgb\n",
    "model = lgb.LGBMClassifier(boosting_type='gbdt', n_estimators=1000)\n",
    "model.fit(X_train_1d, y_train)\n",
    "y_pred = model.predict(X_test_1d)\n",
    "print(classification_report(y_test, y_pred))"
   ]
  },
  {
   "cell_type": "code",
   "execution_count": 43,
   "metadata": {},
   "outputs": [
    {
     "data": {
      "text/plain": [
       "<matplotlib.axes._subplots.AxesSubplot at 0x7efdb0b127b8>"
      ]
     },
     "execution_count": 43,
     "metadata": {},
     "output_type": "execute_result"
    },
    {
     "data": {
      "image/png": "[encoded data removed]",
      "text/plain": [
       "<matplotlib.figure.Figure at 0x7efdb10c0668>"
      ]
     },
     "metadata": {},
     "output_type": "display_data"
    }
   ],
   "source": [
    "mat = confusion_matrix(y_test, y_pred, labels=list(range(10)))\n",
    "sns.heatmap(mat)"
   ]
  },
  {
   "cell_type": "markdown",
   "metadata": {},
   "source": [
    "# CNN"
   ]
  },
  {
   "cell_type": "code",
   "execution_count": 7,
   "metadata": {},
   "outputs": [],
   "source": [
    "import keras"
   ]
  },
  {
   "cell_type": "code",
   "execution_count": 30,
   "metadata": {},
   "outputs": [],
   "source": [
    "y_train_onehot = keras.utils.to_categorical(y_train)\n",
    "y_test_onehot = keras.utils.to_categorical(y_test)"
   ]
  },
  {
   "cell_type": "code",
   "execution_count": 42,
   "metadata": {},
   "outputs": [
    {
     "name": "stdout",
     "output_type": "stream",
     "text": [
      "_________________________________________________________________\n",
      "Layer (type)                 Output Shape              Param #   \n",
      "=================================================================\n",
      "conv2d_32 (Conv2D)           (None, 32, 32, 32)        896       \n",
      "_________________________________________________________________\n",
      "conv2d_33 (Conv2D)           (None, 30, 30, 32)        9248      \n",
      "_________________________________________________________________\n",
      "max_pooling2d_15 (MaxPooling (None, 15, 15, 32)        0         \n",
      "_________________________________________________________________\n",
      "dropout_25 (Dropout)         (None, 15, 15, 32)        0         \n",
      "_________________________________________________________________\n",
      "conv2d_34 (Conv2D)           (None, 15, 15, 64)        18496     \n",
      "_________________________________________________________________\n",
      "conv2d_35 (Conv2D)           (None, 13, 13, 64)        36928     \n",
      "_________________________________________________________________\n",
      "max_pooling2d_16 (MaxPooling (None, 6, 6, 64)          0         \n",
      "_________________________________________________________________\n",
      "dropout_26 (Dropout)         (None, 6, 6, 64)          0         \n",
      "_________________________________________________________________\n",
      "flatten_11 (Flatten)         (None, 2304)              0         \n",
      "_________________________________________________________________\n",
      "dense_21 (Dense)             (None, 512)               1180160   \n",
      "_________________________________________________________________\n",
      "dropout_27 (Dropout)         (None, 512)               0         \n",
      "_________________________________________________________________\n",
      "dense_22 (Dense)             (None, 10)                5130      \n",
      "=================================================================\n",
      "Total params: 1,250,858\n",
      "Trainable params: 1,250,858\n",
      "Non-trainable params: 0\n",
      "_________________________________________________________________\n"
     ]
    }
   ],
   "source": [
    "model = Sequential()\n",
    "model.add(Conv2D(32, (3, 3), padding='same',\n",
    "                 input_shape=(32, 32, 3), activation='relu'))\n",
    "model.add(Conv2D(32, (3, 3), activation='relu'))\n",
    "model.add(MaxPooling2D(pool_size=(2, 2)))\n",
    "model.add(Dropout(0.25))\n",
    "\n",
    "model.add(Conv2D(64, (3, 3), padding='same', activation='relu'))\n",
    "model.add(Conv2D(64, (3, 3), activation='relu'))\n",
    "model.add(MaxPooling2D(pool_size=(2, 2)))\n",
    "model.add(Dropout(0.25))\n",
    "\n",
    "model.add(Flatten())\n",
    "model.add(Dense(512, activation='relu'))\n",
    "model.add(Dropout(0.5))\n",
    "model.add(Dense(10, activation='softmax'))\n",
    "\n",
    "model.compile(loss='categorical_crossentropy',\n",
    "              optimizer=keras.optimizers.rmsprop(lr=0.0001, decay=1e-6),\n",
    "              metrics=['accuracy'])\n",
    "model.summary()"
   ]
  },
  {
   "cell_type": "code",
   "execution_count": 43,
   "metadata": {
    "scrolled": true
   },
   "outputs": [
    {
     "name": "stdout",
     "output_type": "stream",
     "text": [
      "Epoch 1/50\n",
      "50000/50000 [==============================] - 20s 405us/step - loss: 7.2389 - acc: 0.1819\n",
      "Epoch 2/50\n",
      "50000/50000 [==============================] - 20s 393us/step - loss: 1.6530 - acc: 0.3957\n",
      "Epoch 3/50\n",
      "50000/50000 [==============================] - 20s 393us/step - loss: 1.4735 - acc: 0.4703\n",
      "Epoch 4/50\n",
      "50000/50000 [==============================] - 20s 392us/step - loss: 1.3753 - acc: 0.5108\n",
      "Epoch 5/50\n",
      "50000/50000 [==============================] - 20s 396us/step - loss: 1.3106 - acc: 0.5406\n",
      "Epoch 6/50\n",
      "50000/50000 [==============================] - 20s 393us/step - loss: 1.2600 - acc: 0.5576\n",
      "Epoch 7/50\n",
      "50000/50000 [==============================] - 20s 392us/step - loss: 1.2153 - acc: 0.5762\n",
      "Epoch 8/50\n",
      "50000/50000 [==============================] - 20s 396us/step - loss: 1.1714 - acc: 0.5908\n",
      "Epoch 9/50\n",
      "50000/50000 [==============================] - 20s 393us/step - loss: 1.1451 - acc: 0.6009\n",
      "Epoch 10/50\n",
      "50000/50000 [==============================] - 20s 393us/step - loss: 1.1152 - acc: 0.6131\n",
      "Epoch 11/50\n",
      "50000/50000 [==============================] - 20s 395us/step - loss: 1.0945 - acc: 0.6194\n",
      "Epoch 12/50\n",
      "50000/50000 [==============================] - 20s 392us/step - loss: 1.0734 - acc: 0.6285\n",
      "Epoch 13/50\n",
      "50000/50000 [==============================] - 20s 393us/step - loss: 1.0541 - acc: 0.6360\n",
      "Epoch 14/50\n",
      "50000/50000 [==============================] - 20s 394us/step - loss: 1.0340 - acc: 0.6443\n",
      "Epoch 15/50\n",
      "50000/50000 [==============================] - 20s 395us/step - loss: 1.0224 - acc: 0.6479\n",
      "Epoch 16/50\n",
      "50000/50000 [==============================] - 20s 393us/step - loss: 1.0159 - acc: 0.6512\n",
      "Epoch 17/50\n",
      "50000/50000 [==============================] - 20s 394us/step - loss: 1.0056 - acc: 0.6564\n",
      "Epoch 18/50\n",
      "50000/50000 [==============================] - 20s 393us/step - loss: 0.9889 - acc: 0.6612\n",
      "Epoch 19/50\n",
      "50000/50000 [==============================] - 20s 393us/step - loss: 0.9816 - acc: 0.6649\n",
      "Epoch 20/50\n",
      "50000/50000 [==============================] - 20s 395us/step - loss: 0.9748 - acc: 0.6684\n",
      "Epoch 21/50\n",
      "50000/50000 [==============================] - 20s 391us/step - loss: 0.9618 - acc: 0.6727\n",
      "Epoch 22/50\n",
      "50000/50000 [==============================] - 20s 390us/step - loss: 0.9697 - acc: 0.6713\n",
      "Epoch 23/50\n",
      "50000/50000 [==============================] - 20s 390us/step - loss: 0.9552 - acc: 0.6757\n",
      "Epoch 24/50\n",
      "50000/50000 [==============================] - 20s 393us/step - loss: 0.9529 - acc: 0.6801\n",
      "Epoch 25/50\n",
      "50000/50000 [==============================] - 20s 393us/step - loss: 0.9493 - acc: 0.6802\n",
      "Epoch 26/50\n",
      "50000/50000 [==============================] - 20s 393us/step - loss: 0.9534 - acc: 0.6798\n",
      "Epoch 27/50\n",
      "50000/50000 [==============================] - 20s 393us/step - loss: 0.9548 - acc: 0.6788\n",
      "Epoch 28/50\n",
      "50000/50000 [==============================] - 20s 393us/step - loss: 0.9547 - acc: 0.6807\n",
      "Epoch 29/50\n",
      "50000/50000 [==============================] - 20s 392us/step - loss: 0.9432 - acc: 0.6822\n",
      "Epoch 30/50\n",
      "50000/50000 [==============================] - 20s 395us/step - loss: 0.9536 - acc: 0.6804\n",
      "Epoch 31/50\n",
      "50000/50000 [==============================] - 20s 392us/step - loss: 0.9507 - acc: 0.6815\n",
      "Epoch 32/50\n",
      "50000/50000 [==============================] - 20s 393us/step - loss: 0.9481 - acc: 0.6833\n",
      "Epoch 33/50\n",
      "50000/50000 [==============================] - 20s 391us/step - loss: 0.9455 - acc: 0.6844\n",
      "Epoch 34/50\n",
      "50000/50000 [==============================] - 20s 394us/step - loss: 0.9432 - acc: 0.6855\n",
      "Epoch 35/50\n",
      "50000/50000 [==============================] - 19s 390us/step - loss: 0.9519 - acc: 0.6817\n",
      "Epoch 36/50\n",
      "50000/50000 [==============================] - 20s 391us/step - loss: 0.9519 - acc: 0.6809\n",
      "Epoch 37/50\n",
      "50000/50000 [==============================] - 20s 392us/step - loss: 0.9584 - acc: 0.6815\n",
      "Epoch 38/50\n",
      "50000/50000 [==============================] - 20s 392us/step - loss: 0.9575 - acc: 0.6816\n",
      "Epoch 39/50\n",
      "50000/50000 [==============================] - 20s 391us/step - loss: 0.9513 - acc: 0.6835\n",
      "Epoch 40/50\n",
      "50000/50000 [==============================] - 20s 392us/step - loss: 0.9679 - acc: 0.6785\n",
      "Epoch 41/50\n",
      "50000/50000 [==============================] - 20s 392us/step - loss: 0.9673 - acc: 0.6776\n",
      "Epoch 42/50\n",
      "50000/50000 [==============================] - 20s 394us/step - loss: 0.9654 - acc: 0.6803\n",
      "Epoch 43/50\n",
      "50000/50000 [==============================] - 20s 391us/step - loss: 0.9661 - acc: 0.6811\n",
      "Epoch 44/50\n",
      "50000/50000 [==============================] - 20s 393us/step - loss: 0.9692 - acc: 0.6800\n",
      "Epoch 45/50\n",
      "50000/50000 [==============================] - 20s 394us/step - loss: 0.9637 - acc: 0.6819\n",
      "Epoch 46/50\n",
      "50000/50000 [==============================] - 20s 394us/step - loss: 0.9705 - acc: 0.6781\n",
      "Epoch 47/50\n",
      "50000/50000 [==============================] - 19s 390us/step - loss: 0.9725 - acc: 0.6790\n",
      "Epoch 48/50\n",
      "50000/50000 [==============================] - 19s 387us/step - loss: 0.9845 - acc: 0.6770\n",
      "Epoch 49/50\n",
      "50000/50000 [==============================] - 19s 388us/step - loss: 0.9883 - acc: 0.6743\n",
      "Epoch 50/50\n",
      "50000/50000 [==============================] - 19s 390us/step - loss: 0.9818 - acc: 0.6731\n",
      "             precision    recall  f1-score   support\n",
      "\n",
      "          0       0.73      0.75      0.74      1000\n",
      "          1       0.87      0.83      0.85      1000\n",
      "          2       0.58      0.58      0.58      1000\n",
      "          3       0.52      0.46      0.49      1000\n",
      "          4       0.61      0.69      0.64      1000\n",
      "          5       0.67      0.57      0.62      1000\n",
      "          6       0.62      0.87      0.72      1000\n",
      "          7       0.82      0.72      0.77      1000\n",
      "          8       0.83      0.80      0.82      1000\n",
      "          9       0.88      0.77      0.82      1000\n",
      "\n",
      "avg / total       0.71      0.71      0.70     10000\n",
      "\n"
     ]
    }
   ],
   "source": [
    "model.fit(X_train, y_train_onehot, epochs=50)\n",
    "y_pred = model.predict_classes(X_test)\n",
    "print(classification_report(y_test, y_pred))"
   ]
  },
  {
   "cell_type": "code",
   "execution_count": 44,
   "metadata": {},
   "outputs": [
    {
     "data": {
      "text/plain": [
       "<matplotlib.axes._subplots.AxesSubplot at 0x7f834009b828>"
      ]
     },
     "execution_count": 44,
     "metadata": {},
     "output_type": "execute_result"
    },
    {
     "data": {
      "image/png": "[encoded data removed]",
      "text/plain": [
       "<matplotlib.figure.Figure at 0x7f83420a2a90>"
      ]
     },
     "metadata": {},
     "output_type": "display_data"
    }
   ],
   "source": [
    "mat = confusion_matrix(y_test, y_pred, labels=list(range(10)))\n",
    "sns.heatmap(mat)"
   ]
  },
  {
   "cell_type": "code",
   "execution_count": null,
   "metadata": {},
   "outputs": [],
   "source": []
  }
 ],
 "metadata": {
  "kernelspec": {
   "display_name": "Python 3",
   "language": "python",
   "name": "python3"
  },
  "language_info": {
   "codemirror_mode": {
    "name": "ipython",
    "version": 3
   },
   "file_extension": ".py",
   "mimetype": "text/x-python",
   "name": "python",
   "nbconvert_exporter": "python",
   "pygments_lexer": "ipython3",
   "version": "3.5.4"
  }
 },
 "nbformat": 4,
 "nbformat_minor": 2
}
