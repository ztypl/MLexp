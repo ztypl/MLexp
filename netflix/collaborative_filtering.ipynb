{
 "cells": [
  {
   "cell_type": "code",
   "execution_count": 8,
   "metadata": {},
   "outputs": [],
   "source": [
    "import pickle\n",
    "import sys\n",
    "import time\n",
    "import numpy as np\n",
    "from scipy import sparse\n",
    "from scipy.spatial.distance import cosine\n",
    "from sklearn.preprocessing import LabelEncoder\n",
    "from sklearn.metrics import mean_squared_error"
   ]
  },
  {
   "cell_type": "code",
   "execution_count": 6,
   "metadata": {},
   "outputs": [],
   "source": [
    "def cal_time(func):\n",
    "    def wrapper(*args, **kwargs):\n",
    "        t1 = time.time()\n",
    "        result = func(*args, **kwargs)\n",
    "        t2 = time.time()\n",
    "        print(\"%s training time: %s secs.\" % (func.__name__, t2 - t1))\n",
    "        return result\n",
    "    return wrapper\n",
    "\n",
    "\n",
    "def load_data(path='data/'):\n",
    "    train = sparse.load_npz(path + \"train.npz\")\n",
    "    test = sparse.load_npz(path + \"test.npz\")\n",
    "    test_X = np.c_[test.tocoo().row, test.tocoo().col]\n",
    "    test_y = test.tocoo().data\n",
    "    return train.toarray(), test_X, test_y\n",
    "\n",
    "\n",
    "@cal_time\n",
    "def get_similarity(M):\n",
    "    module = np.linalg.norm(M, axis=1).reshape(-1,1)\n",
    "    return M @ M.T / module.T / module\n",
    "\n",
    "@cal_time\n",
    "def trainCF(train, SIM, test_X):\n",
    "    pred_y = []\n",
    "    for user, movie in test_X:\n",
    "        others = train[:,movie].nonzero()[0]\n",
    "        sims = SIM[user, others].reshape(-1)\n",
    "        score = train[others, movie].reshape(-1)\n",
    "        s = np.sum(sims * score) / np.sum(sims)\n",
    "        pred_y.append(s)\n",
    "    return pred_y\n",
    "\n",
    "def rmse(test_y, pred_y):\n",
    "    return np.sqrt(mean_squared_error(test_y, pred_y))"
   ]
  },
  {
   "cell_type": "code",
   "execution_count": 3,
   "metadata": {},
   "outputs": [],
   "source": [
    "train, test_X, test_y = load_data(\"data/\")\n",
    "SIM = np.load(\"data/sims.npy\")"
   ]
  },
  {
   "cell_type": "code",
   "execution_count": 9,
   "metadata": {
    "scrolled": true
   },
   "outputs": [
    {
     "name": "stdout",
     "output_type": "stream",
     "text": [
      "trainCF training time: 188.69590973854065 secs.\n",
      "RMSE=1.018369\n"
     ]
    }
   ],
   "source": [
    "pred_y = trainCF(train, SIM, test_X)\n",
    "print(\"RMSE=%f\" % rmse(test_y, pred_y))"
   ]
  },
  {
   "cell_type": "code",
   "execution_count": null,
   "metadata": {},
   "outputs": [],
   "source": []
  }
 ],
 "metadata": {
  "kernelspec": {
   "display_name": "Python 3",
   "language": "python",
   "name": "python3"
  },
  "language_info": {
   "codemirror_mode": {
    "name": "ipython",
    "version": 3
   },
   "file_extension": ".py",
   "mimetype": "text/x-python",
   "name": "python",
   "nbconvert_exporter": "python",
   "pygments_lexer": "ipython3",
   "version": "3.5.4"
  }
 },
 "nbformat": 4,
 "nbformat_minor": 2
}
