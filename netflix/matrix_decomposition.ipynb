{
 "cells": [
  {
   "cell_type": "code",
   "execution_count": 1,
   "metadata": {},
   "outputs": [],
   "source": [
    "import sys\n",
    "import numpy as np\n",
    "from scipy import sparse\n",
    "from sklearn.metrics import mean_squared_error"
   ]
  },
  {
   "cell_type": "code",
   "execution_count": 4,
   "metadata": {},
   "outputs": [],
   "source": [
    "def load_data(path='data/'):\n",
    "    train = sparse.load_npz(path + \"train.npz\")\n",
    "    test = sparse.load_npz(path + \"test.npz\")\n",
    "    test_X = np.c_[test.tocoo().row, test.tocoo().col]\n",
    "    test_y = test.tocoo().data\n",
    "    return train.toarray(), test_X, test_y\n",
    "\n",
    "\n",
    "def J(X, A, U, V, lbd):\n",
    "    return 0.5 * np.linalg.norm(A * (X - U @ V.T), ord='fro') ** 2 \\\n",
    "           + lbd * np.linalg.norm(U, ord='fro') ** 2 \\\n",
    "           + lbd * np.linalg.norm(V, ord='fro') ** 2\n",
    "\n",
    "\n",
    "def rmse(U, V, test_X, test_y):\n",
    "    X_pred = U @ V.T\n",
    "    pred_y = X_pred[test_X[:,0].reshape(-1), test_X[:,1].reshape(-1)]\n",
    "    return np.sqrt(mean_squared_error(test_y, pred_y))\n",
    "\n",
    "\n",
    "def decomposition(X, test_X, test_y, k=50, lbd=1e-2, learning_rate=1e-3, print_every=1):\n",
    "    A = X.astype('bool').astype('int')\n",
    "    U = np.random.uniform(-1e-2, 1e-2, (X.shape[0], k))\n",
    "    V = np.random.uniform(-1e-2, 1e-2, (X.shape[1], k))\n",
    "    delta_loss = np.inf\n",
    "    old_loss = np.inf\n",
    "    i = 0\n",
    "    loss_array = []\n",
    "    rmse_array = []\n",
    "    while delta_loss >= 100:\n",
    "        dU = (A * (U @ V.T - X)) @ V + 2 * lbd * U\n",
    "        dV = (A * (U @ V.T - X)).T @ U + 2 * lbd * V\n",
    "        new_U = U - learning_rate * dU\n",
    "        new_V = V - learning_rate * dV\n",
    "        loss = J(X, A, new_U, new_V, lbd)\n",
    "        new_delta_loss = old_loss - loss\n",
    "        if new_delta_loss < 0:\n",
    "            learning_rate *= 0.2\n",
    "            continue\n",
    "        learning_rate = min(1e-3, learning_rate / 0.2)\n",
    "        U = new_U\n",
    "        V = new_V\n",
    "        old_loss = loss\n",
    "        delta_loss = new_delta_loss \n",
    "        loss_array.append(loss)\n",
    "        rmse_array.append(rmse(U, V, test_X, test_y))\n",
    "        \n",
    "        i += 1\n",
    "        if i % print_every == 0:\n",
    "            print(\"#%d: loss=%f, rmse=%f\" % (i, loss_array[-1], rmse_array[-1]))\n",
    "            sys.stdout.flush()\n",
    "    return loss_array, rmse_array"
   ]
  },
  {
   "cell_type": "code",
   "execution_count": 3,
   "metadata": {},
   "outputs": [],
   "source": [
    "A, test_X, test_y = load_data(\"data/\")"
   ]
  },
  {
   "cell_type": "code",
   "execution_count": 5,
   "metadata": {
    "scrolled": false
   },
   "outputs": [
    {
     "name": "stdout",
     "output_type": "stream",
     "text": [
      "#50: loss=3021308.536056, rmse=0.939372\n",
      "#100: loss=2612751.213571, rmse=0.875938\n",
      "#150: loss=2434943.510018, rmse=0.848873\n",
      "#200: loss=2321396.384582, rmse=0.832441\n"
     ]
    }
   ],
   "source": [
    "loss_array, rmse_array = decomposition(A, test_X, test_y, print_every=50)"
   ]
  },
  {
   "cell_type": "code",
   "execution_count": null,
   "metadata": {},
   "outputs": [],
   "source": []
  }
 ],
 "metadata": {
  "kernelspec": {
   "display_name": "Python 3",
   "language": "python",
   "name": "python3"
  },
  "language_info": {
   "codemirror_mode": {
    "name": "ipython",
    "version": 3
   },
   "file_extension": ".py",
   "mimetype": "text/x-python",
   "name": "python",
   "nbconvert_exporter": "python",
   "pygments_lexer": "ipython3",
   "version": "3.5.4"
  }
 },
 "nbformat": 4,
 "nbformat_minor": 2
}
