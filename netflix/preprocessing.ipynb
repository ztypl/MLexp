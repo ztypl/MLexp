{
 "cells": [
  {
   "cell_type": "code",
   "execution_count": 49,
   "metadata": {},
   "outputs": [],
   "source": [
    "import pickle\n",
    "import numpy as np\n",
    "from scipy import sparse\n",
    "from sklearn.preprocessing import LabelEncoder\n",
    "\n",
    "users = np.loadtxt(\"Project2-data/users.txt\", dtype='int')\n",
    "enc_user = LabelEncoder()\n",
    "enc_user.fit(users)\n",
    "# with open(\"data/user_encoder.pkl\", \"wb\") as f:\n",
    "#     pickle.dump(enc_user, f)\n",
    "\n",
    "train_data = np.loadtxt(\"Project2-data/netflix_train.txt\", dtype='str', delimiter=' ')[:,:-1].astype(\"int\")\n",
    "A = sparse.coo_matrix((train_data[:,2], \n",
    "                       (enc_user.transform(train_data[:,0]), train_data[:,1] - 1)))\n",
    "sparse.save_npz(\"data/train.npz\", A.tocsc())\n",
    "\n",
    "test_data = np.loadtxt(\"Project2-data/netflix_test.txt\", dtype='str', delimiter=' ')[:,:-1].astype(\"int\")\n",
    "B = sparse.coo_matrix((test_data[:,2], \n",
    "                       (enc_user.transform(test_data[:,0]), test_data[:,1] - 1)))\n",
    "sparse.save_npz(\"data/test.npz\", B.tocsc())"
   ]
  }
 ],
 "metadata": {
  "kernelspec": {
   "display_name": "Python 3",
   "language": "python",
   "name": "python3"
  },
  "language_info": {
   "codemirror_mode": {
    "name": "ipython",
    "version": 3
   },
   "file_extension": ".py",
   "mimetype": "text/x-python",
   "name": "python",
   "nbconvert_exporter": "python",
   "pygments_lexer": "ipython3",
   "version": "3.5.4"
  }
 },
 "nbformat": 4,
 "nbformat_minor": 2
}
