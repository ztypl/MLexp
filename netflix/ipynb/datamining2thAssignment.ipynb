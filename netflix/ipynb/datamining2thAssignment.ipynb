{
 "cells": [
  {
   "cell_type": "code",
   "execution_count": 24,
   "metadata": {
    "collapsed": true
   },
   "outputs": [],
   "source": [
    "import numpy as np\n",
    "import math\n",
    "from numpy import linalg as LA\n",
    "import time\n",
    "start = time.time()\n",
    "\n",
    "def load_users_txt():\n",
    "    'load txt file in a numpy array, which shape is (10000,)'\n",
    "    users = np.loadtxt(\"/Users/datamining/Desktop/hw2/Project2-data/users.txt\")\n",
    "    # users.reshape(users.shape[0], 1)\n",
    "    print(users.shape)\n",
    "    return users\n",
    "\n",
    "\n",
    "def get_index_by_userID(userID, users):\n",
    "    \"users is a array which maps index to userID, and the func will find the userID's index ,and return it  \"\n",
    "    \"i is starting from 0\"\n",
    "    for i in range(users.shape[0]):\n",
    "        if users[i] == userID:\n",
    "            return i\n",
    "    return None\n",
    "\n",
    "\n",
    "def load_netflix_train_txt():\n",
    "    'load netflix_train.txt as a numpy array,which shape is (record_number, 3)'\n",
    "    record_number = 6897746\n",
    "    netflix_train = np.zeros((record_number, 3))\n",
    "    with open(\"/Users/datamining/Desktop/hw2/Project2-data/netflix_train.txt\", \"r\") as f:\n",
    "        i=0\n",
    "        while True:\n",
    "            lines = f.readline()\n",
    "            if not lines:\n",
    "                break\n",
    "            strs = lines.split()\n",
    "            netflix_train[i][0] = int(strs[0])\n",
    "            netflix_train[i][1] = int(strs[1])\n",
    "            netflix_train[i][2] = int(strs[2])\n",
    "            i += 1\n",
    "    return netflix_train\n",
    "\n",
    "\n",
    "def load_netflix_test_txt():\n",
    "    'load netflix_train.txt as a numpy array'\n",
    "    record_number = 1719466\n",
    "    netflix_test = np.zeros((record_number, 3))\n",
    "    with open(\"/Users/datamining/Desktop/hw2/Project2-data/netflix_test.txt\", \"r\") as f:\n",
    "        i=0\n",
    "        while True:\n",
    "            lines = f.readline()\n",
    "            if not lines:\n",
    "                break\n",
    "            strs = lines.split()\n",
    "            netflix_test[i][0] = int(strs[0])\n",
    "            netflix_test[i][1] = int(strs[1])\n",
    "            netflix_test[i][2] = int(strs[2])\n",
    "            i += 1\n",
    "    return netflix_test\n",
    "\n",
    "\n",
    "def generate_matrix_from_train_set():\n",
    "    score_matrix = np.zeros((10000,10000))\n",
    "    netflix_train = load_netflix_train_txt()\n",
    "    print(netflix_train.shape[0])\n",
    "    users = load_users_txt()\n",
    "    previous = None\n",
    "    index = 0\n",
    "    for i in range(netflix_train.shape[0]):\n",
    "        userID = netflix_train[i][0]\n",
    "        if userID != previous:\n",
    "            index = int(get_index_by_userID(userID, users))\n",
    "        score_matrix[index][int(netflix_train[i][1]) - 1] = netflix_train[i][2]\n",
    "        previous = userID\n",
    "        # print(userID, int(netflix_train[i][1]), netflix_train[i][2])\n",
    "    return score_matrix\n",
    "\n",
    "def generate_matrix_from_test_set():\n",
    "    test_score_matrix = np.zeros((10000,10000))\n",
    "    netflix_test = load_netflix_test_txt()\n",
    "    print(netflix_test.shape[0])\n",
    "    users = load_users_txt()\n",
    "    previous = None\n",
    "    index = 0\n",
    "    for i in range(netflix_test.shape[0]):\n",
    "        userID = netflix_test[i][0]\n",
    "        if userID != previous:\n",
    "            index = int(get_index_by_userID(userID, users))\n",
    "        test_score_matrix[index][int(netflix_test[i][1]) - 1] = netflix_test[i][2]\n",
    "        previous = userID\n",
    "        # print(userID, int(netflix_train[i][1]), netflix_train[i][2])\n",
    "    return test_score_matrix"
   ]
  },
  {
   "cell_type": "markdown",
   "metadata": {},
   "source": [
    "## 数据预处理\n",
    "这是大数据处理的第一步：数据清理\n"
   ]
  },
  {
   "cell_type": "code",
   "execution_count": 25,
   "metadata": {
    "scrolled": true
   },
   "outputs": [
    {
     "name": "stdout",
     "output_type": "stream",
     "text": [
      "6897746\n",
      "(10000,)\n",
      "1719466\n",
      "(10000,)\n",
      "(10000, 10000)\n",
      "(10000, 10000)\n"
     ]
    }
   ],
   "source": [
    "score_matrix = generate_matrix_from_train_set()\n",
    "test_score_matrix = generate_matrix_from_test_set()\n",
    "print(score_matrix.shape)\n",
    "print(test_score_matrix.shape)"
   ]
  },
  {
   "cell_type": "code",
   "execution_count": 26,
   "metadata": {},
   "outputs": [
    {
     "name": "stdout",
     "output_type": "stream",
     "text": [
      "[[ 1.          0.63751999  0.58911201 ...,  0.23929481  0.23063863\n",
      "   0.23516932]\n",
      " [ 0.63751999  1.          0.62233197 ...,  0.24477994  0.20416094\n",
      "   0.24026491]\n",
      " [ 0.58911201  0.62233197  1.         ...,  0.29733552  0.21028196\n",
      "   0.25002148]\n",
      " ..., \n",
      " [ 0.23929481  0.24477994  0.29733552 ...,  1.          0.26456619\n",
      "   0.30595259]\n",
      " [ 0.23063863  0.20416094  0.21028196 ...,  0.26456619  1.          0.2605375 ]\n",
      " [ 0.23516932  0.24026491  0.25002148 ...,  0.30595259  0.2605375   1.        ]]\n"
     ]
    }
   ],
   "source": [
    "def cosine_simi_matrix(score_matrix):\n",
    "    product = np.dot(score_matrix, score_matrix.T)\n",
    "    norms = np.sqrt(np.diag(product))\n",
    "    norms = np.mat(norms)\n",
    "    norms = np.array(norms)\n",
    "    normProduct = np.dot(norms.T, norms)\n",
    "    cosine_simi = product/normProduct\n",
    "    return cosine_simi\n",
    "\n",
    "cosine_simi = cosine_simi_matrix(score_matrix)\n",
    "print(cosine_simi)"
   ]
  },
  {
   "cell_type": "code",
   "execution_count": 27,
   "metadata": {
    "collapsed": true
   },
   "outputs": [],
   "source": [
    "def get_cosine_similarity(userI, userK, score_matrix):\n",
    "        score_arrayI = score_matrix[int(userI)][:]\n",
    "        score_arrayK = score_matrix[int(userK)][:]\n",
    "        cosine_similarity_matrix[userI][userK] = sum(score_arrayI * score_arrayK)/(LA.norm(score_arrayI) * LA.norm(score_arrayK))\n",
    "        cosine_similarity_matrix[userK][userI] = cosine_similarity_matrix[userI][userK]\n",
    "        return cosine_similarity_matrix[userI][userK]\n",
    "\n",
    "\n",
    "def get_predict_matrix(simi_matrix, score_matrix):\n",
    "    # predict = simMatrix * train ./ (simMatrix * (train ~= 0)); % 得到预测矩阵\n",
    "    predict = np.dot(simi_matrix, score_matrix)/np.dot(simi_matrix,(score_matrix != 0))\n",
    "    return predict\n",
    "\n",
    "\n",
    "def get_prediction_userI_movieJ(userI, movieJ, score_matrix):\n",
    "    numerator = 0\n",
    "    denominator = 0\n",
    "    for i in range(10000):\n",
    "        if cosine_simi[userI][i] == 0:\n",
    "            get_cosine_similarity(userI, i, score_matrix)\n",
    "        numerator += (cosine_similarity_matrix[userI][i] * score_matrix[i][int(movieJ)])\n",
    "        denominator += cosine_similarity_matrix[userI][i]\n",
    "    return numerator/denominator"
   ]
  },
  {
   "cell_type": "code",
   "execution_count": 28,
   "metadata": {},
   "outputs": [
    {
     "name": "stdout",
     "output_type": "stream",
     "text": [
      "(10000,)\n",
      "3.6935892572\n",
      "[[ 3.51626274  1.58242866  3.27313734 ...,  2.40809926  1.90982144\n",
      "   2.70421857]\n",
      " [ 3.52311321  1.57360078  3.23932313 ...,  2.45400374  1.96022805\n",
      "   2.70934959]\n",
      " [ 3.55291588  1.50422781  3.24868583 ...,  2.42030216  1.94107751\n",
      "   2.71747659]\n",
      " ..., \n",
      " [ 3.58475914  1.65592394  3.33779199 ...,  2.60245256  1.98185317\n",
      "   2.69487099]\n",
      " [ 3.57912145  1.74906026  3.37600014 ...,  2.61060557  1.96656481\n",
      "   2.64032764]\n",
      " [ 3.60659136  1.69346725  3.28059956 ...,  2.64436166  2.03528963\n",
      "   2.70673942]]\n"
     ]
    }
   ],
   "source": [
    "users = load_users_txt()\n",
    "predict_matrix = get_predict_matrix(cosine_simi, score_matrix)\n",
    "#print(get_prediction_userI_movieJ(get_index_by_userID(2123534, users), 6133,score_matrix))\n",
    "# output 2.40428969373\n",
    "print(predict_matrix[get_index_by_userID(2123534, users)][6133])\n",
    "print(predict_matrix)"
   ]
  },
  {
   "cell_type": "code",
   "execution_count": 29,
   "metadata": {
    "collapsed": true
   },
   "outputs": [],
   "source": [
    "def final_compute_rmse(predict_matrix, test_score_matrix):\n",
    "    A_test = test_score_matrix != 0\n",
    "    sparse_A_predict = A_test * predict_matrix\n",
    "    part1 = LA.norm(sparse_A_predict - test_score_matrix,\"fro\")\n",
    "    rmse = np.sqrt(part1*part1/1719466)\n",
    "    #rmse = (sum((sparseTest - sparsePredict) .^ 2) / length(sparseTest)) ^ 0.5;\n",
    "    return rmse\n",
    "\n",
    "\n",
    "def compute_rmse():\n",
    "    netflix_test = load_netflix_test_txt()\n",
    "    print(netflix_test.shape)\n",
    "    square = 0\n",
    "    for i in range(netflix_test.shape[0]):\n",
    "        temp = (float(netflix_test[i][2]) - get_prediction_userI_movieJ(get_index_by_userID(int(netflix_test[i][0]), users), int(netflix_test[i][1]),score_matrix))\n",
    "        # print(temp)\n",
    "        square += (temp * temp)\n",
    "    return math.sqrt(square / netflix_test.shape[0])"
   ]
  },
  {
   "cell_type": "code",
   "execution_count": 30,
   "metadata": {},
   "outputs": [
    {
     "name": "stdout",
     "output_type": "stream",
     "text": [
      "1.01836903941\n",
      "elapsed time is: 129.2543728351593\n"
     ]
    }
   ],
   "source": [
    "rmse = final_compute_rmse(predict_matrix, test_score_matrix)\n",
    "print(rmse)\n",
    "elapsed = (time.time() - start)\n",
    "print(\"elapsed time is:\",elapsed)"
   ]
  },
  {
   "cell_type": "markdown",
   "metadata": {
    "collapsed": true
   },
   "source": [
    "### 基于梯度下降的矩阵分解方法"
   ]
  },
  {
   "cell_type": "code",
   "execution_count": 39,
   "metadata": {
    "collapsed": true
   },
   "outputs": [],
   "source": [
    "start = time.time()\n",
    "def initialize_prameter(k):\n",
    "    U = 0.01 * np.random.rand(10000, k)\n",
    "    V = 0.01 * np.random.rand(10000, k)\n",
    "    return U, V\n",
    "\n",
    "\n",
    "def compute_cost_function(score_matrix, U, V, lambd, A):\n",
    "    part1 = LA.norm(A * (score_matrix - np.dot(U, V.T)),\"fro\")\n",
    "    part2 = LA.norm(U, \"fro\")\n",
    "    part3 = LA.norm(V, \"fro\")\n",
    "    cost = part1 * part1 / 2 + lambd * part2 *part2 + lambd * part3 *part3\n",
    "    # print(cost)\n",
    "    return cost\n",
    "\n",
    "import matplotlib.pyplot as plt\n",
    "def gradient_descent(X, U, V, lambd, learning_rate, A): \n",
    "    previous_cost = 0\n",
    "    # cnt = 0\n",
    "    list1=[]\n",
    "    while True:\n",
    "        list1.append(final_compute_rmse(np.dot(U, V.T), test_score_matrix))\n",
    "        temp = compute_cost_function(X, U, V, lambd, A)\n",
    "        print(temp)\n",
    "        if abs(temp - previous_cost) < 3000:\n",
    "            break\n",
    "        previous_cost = temp\n",
    "        derivative_U = np.dot(A * (np.dot(U, V.T) - X), V) + 2 * lambd * U\n",
    "        derivative_V = np.dot((A * (np.dot(U, V.T) - X)).T, U) + 2 * lambd * V\n",
    "        U = U - learning_rate * derivative_U\n",
    "        V = V - learning_rate * derivative_V\n",
    "    plt.plot(list1)\n",
    "    plt.xlabel(\"iteration numbers\")\n",
    "    plt.ylabel(\"RMSE\")\n",
    "    plt.title(\"MF RMSE variation figure(k=50,lambda=0.01)\")\n",
    "    plt.show()\n",
    "    return np.dot(U, V.T)"
   ]
  },
  {
   "cell_type": "code",
   "execution_count": 52,
   "metadata": {},
   "outputs": [
    {
     "name": "stdout",
     "output_type": "stream",
     "text": [
      "[[ True False  True ...,  True  True  True]\n",
      " [ True False  True ...,  True  True  True]\n",
      " [False  True False ...,  True  True  True]\n",
      " ..., \n",
      " [False False False ..., False False False]\n",
      " [False False False ..., False False False]\n",
      " [False False False ..., False False False]]\n",
      "[[  6.62424051e-03   2.55261812e-03   1.11378125e-03 ...,   5.48143132e-03\n",
      "    8.12073513e-03   9.58991508e-03]\n",
      " [  2.82017213e-03   4.46454561e-03   2.55860192e-03 ...,   2.54361255e-03\n",
      "    1.60381199e-03   8.29399616e-03]\n",
      " [  7.55501412e-03   8.01302034e-03   1.21347593e-04 ...,   1.98926830e-03\n",
      "    7.32650495e-03   6.05586452e-03]\n",
      " ..., \n",
      " [  8.97744712e-03   8.03932404e-03   5.84676785e-03 ...,   8.80819432e-03\n",
      "    5.61425717e-03   4.92604338e-03]\n",
      " [  4.59134013e-03   5.84702867e-04   2.77474424e-03 ...,   7.66639087e-03\n",
      "    2.14119721e-03   5.58964409e-03]\n",
      " [  5.89050916e-03   8.35637488e-03   7.60487393e-03 ...,   6.41132352e-05\n",
      "    4.07992360e-03   8.70915284e-03]]\n",
      "[[ 0.00460174  0.00217531  0.00299381 ...,  0.00870062  0.00854422\n",
      "   0.00174062]\n",
      " [ 0.00132883  0.00679045  0.00374235 ...,  0.00664581  0.0057219\n",
      "   0.00605396]\n",
      " [ 0.0029475   0.00432863  0.00854483 ...,  0.00638222  0.00940936\n",
      "   0.00770864]\n",
      " ..., \n",
      " [ 0.00757837  0.00968847  0.00542893 ...,  0.00228939  0.00719543\n",
      "   0.00974506]\n",
      " [ 0.0009616   0.00749077  0.00253167 ...,  0.00400126  0.00979456\n",
      "   0.00463397]\n",
      " [ 0.00778557  0.00984833  0.00193228 ...,  0.00531171  0.00181292\n",
      "   0.00607972]]\n"
     ]
    }
   ],
   "source": [
    "A = (score_matrix != 0)\n",
    "print (A)\n",
    "U, V = initialize_prameter(20)\n",
    "print(U)\n",
    "print(V)"
   ]
  },
  {
   "cell_type": "code",
   "execution_count": 49,
   "metadata": {},
   "outputs": [
    {
     "name": "stdout",
     "output_type": "stream",
     "text": [
      "43727346.5119\n"
     ]
    }
   ],
   "source": [
    "print(compute_cost_function(score_matrix, U, V, 0.001, A))"
   ]
  },
  {
   "cell_type": "code",
   "execution_count": 57,
   "metadata": {
    "scrolled": true
   },
   "outputs": [
    {
     "name": "stdout",
     "output_type": "stream",
     "text": [
      "43744898.2945\n",
      "43725066.2983\n",
      "43681767.2894\n",
      "43581310.2061\n",
      "43347335.2363\n",
      "42806058.0869\n",
      "41576670.07\n",
      "38903382.0286\n",
      "33644851.134\n",
      "25356549.7746\n",
      "16944041.202\n",
      "12275450.8627\n",
      "9899616.97821\n",
      "8379672.12324\n",
      "7346629.97643\n",
      "6609049.08599\n",
      "6061132.94784\n",
      "5640930.79114\n",
      "5310090.45351\n",
      "5043771.54539\n",
      "4825291.56895\n",
      "4643104.80414\n",
      "4489011.97606\n",
      "4357057.47617\n",
      "4242828.02382\n",
      "4142994.1817\n",
      "4055003.27635\n",
      "3976869.23548\n",
      "3907025.94062\n",
      "3844223.09625\n",
      "3787451.10935\n",
      "3735886.11119\n",
      "3688849.18733\n",
      "3645775.77507\n",
      "3606192.43334\n",
      "3569699.02279\n",
      "3535954.90029\n",
      "3504668.12296\n",
      "3475586.93013\n",
      "3448492.96498\n",
      "3423195.83658\n",
      "3399528.72304\n",
      "3377344.78982\n",
      "3356514.25116\n",
      "3336921.94292\n",
      "3318465.30459\n",
      "3301052.69144\n",
      "3284601.95445\n",
      "3269039.23908\n",
      "3254297.96393\n",
      "3240317.94811\n",
      "3227044.66226\n",
      "3214428.58301\n",
      "3202424.63434\n",
      "3190991.70231\n",
      "3180092.21201\n",
      "3169691.75764\n",
      "3159758.77787\n",
      "3150264.27025\n",
      "3141181.53914\n",
      "3132485.97276\n",
      "3124154.84539\n",
      "3116167.14158\n",
      "3108503.39947\n",
      "3101145.57086\n",
      "3094076.89604\n",
      "3087281.79154\n",
      "3080745.74927\n",
      "3074455.24576\n",
      "3068397.66038\n",
      "3062561.20138\n",
      "3056934.83906\n",
      "3051508.24523\n",
      "3046271.73813\n",
      "3041216.23255\n",
      "3036333.1943\n",
      "3031614.59869\n",
      "3027052.89271\n",
      "3022640.96037\n",
      "3018372.09099\n",
      "3014239.95011\n",
      "3010238.55281\n",
      "3006362.2391\n",
      "3002605.65136\n",
      "2998963.71341\n",
      "2995431.61129\n",
      "2992004.77541\n",
      "2988678.86405\n",
      "2985449.74797\n",
      "2982313.49626\n",
      "2979266.36298\n",
      "2976304.77483\n"
     ]
    },
    {
     "data": {
      "image/png": "[encoded data removed]",
      "text/plain": [
       "<matplotlib.figure.Figure at 0x101e291d0>"
      ]
     },
     "metadata": {},
     "output_type": "display_data"
    }
   ],
   "source": [
    "prediction_matrix = gradient_descent(score_matrix, U, V, 0.01, 0.0001, A)\n",
    "#rmse = final_compute_rmse(prediction_matrix, test_score_matrix)\n",
    "#print(rmse)"
   ]
  },
  {
   "cell_type": "code",
   "execution_count": 58,
   "metadata": {},
   "outputs": [
    {
     "name": "stdout",
     "output_type": "stream",
     "text": [
      "0.93204399725\n",
      "elapsed time is: 11864.774064779282\n"
     ]
    }
   ],
   "source": [
    "mf_rmse = final_compute_rmse(prediction_matrix, test_score_matrix)\n",
    "print(mf_rmse)\n",
    "elapsed = (time.time()-start)\n",
    "print(\"elapsed time is:\", elapsed)"
   ]
  },
  {
   "cell_type": "code",
   "execution_count": null,
   "metadata": {
    "collapsed": true
   },
   "outputs": [],
   "source": []
  }
 ],
 "metadata": {
  "kernelspec": {
   "display_name": "Python 3",
   "language": "python",
   "name": "python3"
  },
  "language_info": {
   "codemirror_mode": {
    "name": "ipython",
    "version": 3
   },
   "file_extension": ".py",
   "mimetype": "text/x-python",
   "name": "python",
   "nbconvert_exporter": "python",
   "pygments_lexer": "ipython3",
   "version": "3.5.4"
  }
 },
 "nbformat": 4,
 "nbformat_minor": 2
}
