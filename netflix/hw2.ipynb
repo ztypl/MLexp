{
 "cells": [
  {
   "cell_type": "code",
   "execution_count": 1,
   "metadata": {},
   "outputs": [],
   "source": [
    "import sys\n",
    "import time\n",
    "import pickle\n",
    "import numpy as np\n",
    "import pandas as pd\n",
    "from scipy import sparse\n",
    "import matplotlib.pyplot as plt\n",
    "from sklearn.preprocessing import LabelEncoder\n",
    "from sklearn.metrics import mean_squared_error"
   ]
  },
  {
   "cell_type": "code",
   "execution_count": 2,
   "metadata": {},
   "outputs": [],
   "source": [
    "def cal_time(func):\n",
    "    def wrapper(*args, **kwargs):\n",
    "        t1 = time.time()\n",
    "        result = func(*args, **kwargs)\n",
    "        t2 = time.time()\n",
    "        print(\"%s training time: %s secs.\" % (func.__name__, t2 - t1))\n",
    "        return result\n",
    "    return wrapper"
   ]
  },
  {
   "cell_type": "markdown",
   "metadata": {},
   "source": [
    "# 1. 数据预处理"
   ]
  },
  {
   "cell_type": "code",
   "execution_count": 3,
   "metadata": {},
   "outputs": [],
   "source": [
    "users = np.loadtxt(\"Project2-data/users.txt\", dtype='int')\n",
    "enc_user = LabelEncoder()\n",
    "enc_user.fit(users)\n",
    "\n",
    "train_data = np.loadtxt(\"Project2-data/netflix_train.txt\", dtype='str', delimiter=' ')[:,:-1].astype(\"int\")\n",
    "A = sparse.coo_matrix((train_data[:,2], \n",
    "                       (enc_user.transform(train_data[:,0]), train_data[:,1] - 1)))\n",
    "sparse.save_npz(\"data/train.npz\", A.tocsc())\n",
    "\n",
    "test_data = np.loadtxt(\"Project2-data/netflix_test.txt\", dtype='str', delimiter=' ')[:,:-1].astype(\"int\")\n",
    "B = sparse.coo_matrix((test_data[:,2], \n",
    "                       (enc_user.transform(test_data[:,0]), test_data[:,1] - 1)))\n",
    "sparse.save_npz(\"data/test.npz\", B.tocsc())"
   ]
  },
  {
   "cell_type": "markdown",
   "metadata": {},
   "source": [
    "# 2. 协同过滤"
   ]
  },
  {
   "cell_type": "code",
   "execution_count": null,
   "metadata": {},
   "outputs": [],
   "source": [
    "def load_data(path='data/'):\n",
    "    train = sparse.load_npz(path + \"train.npz\")\n",
    "    test = sparse.load_npz(path + \"test.npz\")\n",
    "    test_X = np.c_[test.tocoo().row, test.tocoo().col]\n",
    "    test_y = test.tocoo().data\n",
    "    return train.toarray(), test_X, test_y\n",
    "\n",
    "@cal_time\n",
    "def get_similarity(M):\n",
    "    module = np.linalg.norm(M, axis=1).reshape(-1,1)\n",
    "    return M @ M.T / module.T / module\n",
    "\n",
    "@cal_time\n",
    "def trainCF(train, SIM, test_X):\n",
    "    pred_y = []\n",
    "    for user, movie in test_X:\n",
    "        others = train[:,movie].nonzero()[0]\n",
    "        sims = SIM[user, others].reshape(-1)\n",
    "        score = train[others, movie].reshape(-1)\n",
    "        s = np.sum(sims * score) / np.sum(sims)\n",
    "        pred_y.append(s)\n",
    "    return pred_y\n",
    "\n",
    "def rmse(test_y, pred_y):\n",
    "    return np.sqrt(mean_squared_error(test_y, pred_y))"
   ]
  },
  {
   "cell_type": "code",
   "execution_count": 5,
   "metadata": {},
   "outputs": [],
   "source": [
    "train_M, test_X, test_y = load_data()\n",
    "SIM = get_similarity(train_M)\n",
    "np.save(\"data/sims.npy\", SIM)"
   ]
  },
  {
   "cell_type": "code",
   "execution_count": 6,
   "metadata": {},
   "outputs": [
    {
     "name": "stdout",
     "output_type": "stream",
     "text": [
      "trainCF training time: 191.80744910240173 secs.\n",
      "RMSE=1.018369\n"
     ]
    }
   ],
   "source": [
    "pred_y = trainCF(train_M, SIM, test_X)\n",
    "print(\"RMSE=%f\" % rmse(test_y, pred_y))"
   ]
  },
  {
   "cell_type": "markdown",
   "metadata": {},
   "source": [
    "# 3. 基于梯度下降的矩阵分解算法"
   ]
  },
  {
   "cell_type": "code",
   "execution_count": 9,
   "metadata": {},
   "outputs": [],
   "source": [
    "def load_data(path='data/'):\n",
    "    train = sparse.load_npz(path + \"train.npz\")\n",
    "    test = sparse.load_npz(path + \"test.npz\")\n",
    "    test_X = np.c_[test.tocoo().row, test.tocoo().col]\n",
    "    test_y = test.tocoo().data\n",
    "    return train.toarray(), test_X, test_y\n",
    "\n",
    "\n",
    "def J(X, A, U, V, lbd):\n",
    "    return 0.5 * np.linalg.norm(A * (X - U @ V.T), ord='fro') ** 2 \\\n",
    "           + lbd * np.linalg.norm(U, ord='fro') ** 2 \\\n",
    "           + lbd * np.linalg.norm(V, ord='fro') ** 2\n",
    "\n",
    "\n",
    "def rmse(U, V, test_X, test_y):\n",
    "    X_pred = U @ V.T\n",
    "    pred_y = X_pred[test_X[:,0].reshape(-1), test_X[:,1].reshape(-1)]\n",
    "    return np.sqrt(mean_squared_error(test_y, pred_y))\n",
    "\n",
    "\n",
    "def decomposition(X, test_X, test_y, k=50, lbd=1e-2, learning_rate=1e-3, print_every=1):\n",
    "    np.random.seed(1000)\n",
    "    A = X.astype('bool').astype('int')\n",
    "    U = np.random.uniform(-1e-2, 1e-2, (X.shape[0], k))\n",
    "    V = np.random.uniform(-1e-2, 1e-2, (X.shape[1], k))\n",
    "    delta_loss = np.inf\n",
    "    old_loss = np.inf\n",
    "    i = 0\n",
    "    loss_array = []\n",
    "    rmse_array = []\n",
    "    while delta_loss >= 100:\n",
    "        dU = (A * (U @ V.T - X)) @ V + 2 * lbd * U\n",
    "        dV = (A * (U @ V.T - X)).T @ U + 2 * lbd * V\n",
    "        new_U = U - learning_rate * dU\n",
    "        new_V = V - learning_rate * dV\n",
    "        loss = J(X, A, new_U, new_V, lbd)\n",
    "        new_delta_loss = old_loss - loss\n",
    "        if new_delta_loss < 0:\n",
    "            learning_rate *= 0.2\n",
    "            continue\n",
    "        learning_rate = min(1e-3, learning_rate / 0.2)\n",
    "        U = new_U\n",
    "        V = new_V\n",
    "        old_loss = loss\n",
    "        delta_loss = new_delta_loss \n",
    "        loss_array.append(loss)\n",
    "        rmse_array.append(rmse(U, V, test_X, test_y))\n",
    "        \n",
    "        i += 1\n",
    "        if i % print_every == 0:\n",
    "            print(\"#%d: loss=%f, rmse=%f\" % (i, loss_array[-1], rmse_array[-1]))\n",
    "            sys.stdout.flush()\n",
    "    return loss_array, rmse_array"
   ]
  },
  {
   "cell_type": "code",
   "execution_count": 10,
   "metadata": {
    "scrolled": true
   },
   "outputs": [
    {
     "name": "stdout",
     "output_type": "stream",
     "text": [
      "#1: loss=43756321.934498, rmse=3.562205\n",
      "#2: loss=43752380.442650, rmse=3.562057\n",
      "#3: loss=43566360.507233, rmse=3.554496\n",
      "#4: loss=36071937.822951, rmse=3.234559\n",
      "#5: loss=20351750.944423, rmse=2.429693\n",
      "#6: loss=12165695.876792, rmse=1.878581\n",
      "#7: loss=10135296.009988, rmse=1.715659\n",
      "#8: loss=9320817.668766, rmse=1.646110\n",
      "#9: loss=6713103.751527, rmse=1.397496\n",
      "#10: loss=6587094.391829, rmse=1.384227\n",
      "#11: loss=5721279.125859, rmse=1.290375\n",
      "#12: loss=5688658.083576, rmse=1.286784\n",
      "#13: loss=4962144.676907, rmse=1.202082\n",
      "#14: loss=4905568.892822, rmse=1.195185\n",
      "#15: loss=4556895.163195, rmse=1.152099\n",
      "#16: loss=4517666.544495, rmse=1.147107\n",
      "#17: loss=4243652.013936, rmse=1.111923\n",
      "#18: loss=4187082.850458, rmse=1.104523\n",
      "#19: loss=4031881.447141, rmse=1.083946\n",
      "#20: loss=3980306.979555, rmse=1.076973\n",
      "#21: loss=3863425.760874, rmse=1.061128\n",
      "#22: loss=3807689.060900, rmse=1.053508\n",
      "#23: loss=3734795.107975, rmse=1.043418\n",
      "#24: loss=3682899.671843, rmse=1.036145\n",
      "#25: loss=3629098.099987, rmse=1.028600\n",
      "#26: loss=3578751.130055, rmse=1.021511\n",
      "#27: loss=3542732.204894, rmse=1.016378\n",
      "#28: loss=3496304.580455, rmse=1.009712\n",
      "#29: loss=3469573.686281, rmse=1.005878\n",
      "#30: loss=3426343.893640, rmse=0.999661\n",
      "#31: loss=3421584.324033, rmse=0.998936\n",
      "#32: loss=3366801.155406, rmse=0.990974\n",
      "#33: loss=3350761.161277, rmse=0.988672\n",
      "#34: loss=3316239.251343, rmse=0.983590\n",
      "#35: loss=3295931.853760, rmse=0.980576\n",
      "#36: loss=3271358.011695, rmse=0.976952\n",
      "#37: loss=3248143.346315, rmse=0.973545\n",
      "#38: loss=3231459.989528, rmse=0.971053\n",
      "#39: loss=3207518.207000, rmse=0.967469\n",
      "#40: loss=3195159.778941, rmse=0.965628\n",
      "#41: loss=3171058.228362, rmse=0.962045\n",
      "#42: loss=3164859.065600, rmse=0.961098\n",
      "#43: loss=3137934.415037, rmse=0.957047\n",
      "#44: loss=3124676.992142, rmse=0.955093\n",
      "#45: loss=3107523.421963, rmse=0.952482\n",
      "#46: loss=3090962.162542, rmse=0.949963\n",
      "#47: loss=3078816.839971, rmse=0.948123\n",
      "#48: loss=3060235.946575, rmse=0.945332\n",
      "#49: loss=3051517.150690, rmse=0.943993\n",
      "#50: loss=3032078.613008, rmse=0.941023\n",
      "#51: loss=3024943.691832, rmse=0.939996\n",
      "#52: loss=3005514.060438, rmse=0.936991\n",
      "#53: loss=2993141.898223, rmse=0.935090\n",
      "#54: loss=2980063.954029, rmse=0.933080\n",
      "#55: loss=2964552.499738, rmse=0.930736\n",
      "#56: loss=2955671.006905, rmse=0.929352\n",
      "#57: loss=2938830.266284, rmse=0.926752\n",
      "#58: loss=2936359.557426, rmse=0.926456\n",
      "#59: loss=2914927.707513, rmse=0.923091\n",
      "#60: loss=2906149.730944, rmse=0.921735\n",
      "#61: loss=2892429.141169, rmse=0.919597\n",
      "#62: loss=2880124.213226, rmse=0.917737\n",
      "#63: loss=2871356.153971, rmse=0.916351\n",
      "#64: loss=2857766.501378, rmse=0.914236\n",
      "#65: loss=2851558.689632, rmse=0.913270\n",
      "#66: loss=2837645.403857, rmse=0.911133\n",
      "#67: loss=2832789.968430, rmse=0.910385\n",
      "#68: loss=2819395.345871, rmse=0.908273\n",
      "#69: loss=2810865.503243, rmse=0.906995\n",
      "#70: loss=2802736.957111, rmse=0.905693\n",
      "#71: loss=2792846.650707, rmse=0.904143\n",
      "#72: loss=2787363.481335, rmse=0.903283\n",
      "#73: loss=2777022.854451, rmse=0.901693\n",
      "#74: loss=2775621.091882, rmse=0.901486\n",
      "#75: loss=2762851.699779, rmse=0.899454\n",
      "#76: loss=2757431.308576, rmse=0.898662\n",
      "#77: loss=2749942.440040, rmse=0.897449\n",
      "#78: loss=2742831.483580, rmse=0.896327\n",
      "#79: loss=2737929.068410, rmse=0.895554\n",
      "#80: loss=2730040.449576, rmse=0.894344\n",
      "#81: loss=2726644.945564, rmse=0.893794\n",
      "#82: loss=2718532.693581, rmse=0.892512\n",
      "#83: loss=2715149.470706, rmse=0.892044\n",
      "#84: loss=2707834.217273, rmse=0.890848\n",
      "#85: loss=2702382.521492, rmse=0.889982\n",
      "#86: loss=2697689.547513, rmse=0.889239\n",
      "#87: loss=2691162.732860, rmse=0.888244\n",
      "#88: loss=2687970.070591, rmse=0.887722\n",
      "#89: loss=2680978.658376, rmse=0.886612\n",
      "#90: loss=2678645.484643, rmse=0.886320\n",
      "#91: loss=2671382.434289, rmse=0.885122\n",
      "#92: loss=2666763.714055, rmse=0.884386\n",
      "#93: loss=2662150.271037, rmse=0.883655\n",
      "#94: loss=2656293.995966, rmse=0.882770\n",
      "#95: loss=2653184.876062, rmse=0.882258\n",
      "#96: loss=2646740.466299, rmse=0.881235\n",
      "#97: loss=2644959.361066, rmse=0.881044\n",
      "#98: loss=2637674.721396, rmse=0.879833\n",
      "#99: loss=2633497.255701, rmse=0.879169\n",
      "#100: loss=2628894.461152, rmse=0.878439\n",
      "#101: loss=2623404.316924, rmse=0.877620\n",
      "#102: loss=2620322.977486, rmse=0.877110\n",
      "#103: loss=2614197.169639, rmse=0.876141\n",
      "#104: loss=2612808.711987, rmse=0.876028\n",
      "#105: loss=2605460.408034, rmse=0.874798\n",
      "#106: loss=2601625.482985, rmse=0.874193\n",
      "#107: loss=2597005.225686, rmse=0.873460\n",
      "#108: loss=2591834.531103, rmse=0.872701\n",
      "#109: loss=2588767.299897, rmse=0.872191\n",
      "#110: loss=2582958.837277, rmse=0.871278\n",
      "#111: loss=2582021.550797, rmse=0.871252\n",
      "#112: loss=2574586.832896, rmse=0.870000\n",
      "#113: loss=2571175.487453, rmse=0.869470\n",
      "#114: loss=2566532.743499, rmse=0.868733\n",
      "#115: loss=2561779.936436, rmse=0.868047\n",
      "#116: loss=2558734.328897, rmse=0.867540\n",
      "#117: loss=2553353.225165, rmse=0.866702\n",
      "#118: loss=2553017.981528, rmse=0.866784\n",
      "#119: loss=2545475.420899, rmse=0.865509\n",
      "#120: loss=2542621.945043, rmse=0.865076\n",
      "#121: loss=2537952.468095, rmse=0.864332\n",
      "#122: loss=2533734.186945, rmse=0.863739\n",
      "#123: loss=2530715.022207, rmse=0.863234\n",
      "#124: loss=2525858.322816, rmse=0.862486\n",
      "#125: loss=2523696.961000, rmse=0.862151\n",
      "#126: loss=2518541.835301, rmse=0.861386\n",
      "#127: loss=2516258.091221, rmse=0.861054\n",
      "#128: loss=2511612.968878, rmse=0.860311\n",
      "#129: loss=2507936.514039, rmse=0.859807\n",
      "#130: loss=2504968.602282, rmse=0.859310\n",
      "#131: loss=2500628.383461, rmse=0.858652\n",
      "#132: loss=2498534.483530, rmse=0.858326\n",
      "#133: loss=2493871.568702, rmse=0.857642\n",
      "#134: loss=2492142.521441, rmse=0.857408\n",
      "#135: loss=2487486.166659, rmse=0.856658\n",
      "#136: loss=2484306.554235, rmse=0.856235\n",
      "#137: loss=2481363.334242, rmse=0.855742\n",
      "#138: loss=2477474.069903, rmse=0.855161\n",
      "#139: loss=2475424.521545, rmse=0.854841\n",
      "#140: loss=2471174.167275, rmse=0.854223\n",
      "#141: loss=2469932.820354, rmse=0.854078\n",
      "#142: loss=2465222.426934, rmse=0.853314\n",
      "#143: loss=2462457.932808, rmse=0.852956\n",
      "#144: loss=2459508.007742, rmse=0.852463\n",
      "#145: loss=2455982.146986, rmse=0.851946\n",
      "#146: loss=2453951.518601, rmse=0.851627\n",
      "#147: loss=2450025.494841, rmse=0.851060\n",
      "#148: loss=2449205.388489, rmse=0.850994\n",
      "#149: loss=2444400.665991, rmse=0.850208\n",
      "#150: loss=2441980.434650, rmse=0.849905\n",
      "#151: loss=2438996.035323, rmse=0.849406\n",
      "#152: loss=2435764.653671, rmse=0.848944\n",
      "#153: loss=2433732.122474, rmse=0.848621\n",
      "#154: loss=2430066.194273, rmse=0.848096\n",
      "#155: loss=2429627.230573, rmse=0.848105\n",
      "#156: loss=2424693.963697, rmse=0.847291\n",
      "#157: loss=2422575.480085, rmse=0.847035\n",
      "#158: loss=2419534.593592, rmse=0.846528\n",
      "#159: loss=2416557.222549, rmse=0.846114\n",
      "#160: loss=2414507.424156, rmse=0.845786\n",
      "#161: loss=2411064.634307, rmse=0.845297\n",
      "#162: loss=2410992.380567, rmse=0.845378\n"
     ]
    }
   ],
   "source": [
    "loss_array, rmse_array = decomposition(train_M, test_X, test_y)"
   ]
  },
  {
   "cell_type": "code",
   "execution_count": 11,
   "metadata": {},
   "outputs": [
    {
     "data": {
      "image/png": "[encoded data removed]",
      "text/plain": [
       "<matplotlib.figure.Figure at 0x7f492bbd8438>"
      ]
     },
     "metadata": {},
     "output_type": "display_data"
    }
   ],
   "source": [
    "plt.plot(loss_array)\n",
    "plt.ylabel(\"Loss\")\n",
    "plt.xlabel(\"Iteration\")\n",
    "plt.savefig(\"loss.pdf\")\n",
    "plt.show()"
   ]
  },
  {
   "cell_type": "code",
   "execution_count": 12,
   "metadata": {},
   "outputs": [
    {
     "data": {
      "image/png": "[encoded data removed]",
      "text/plain": [
       "<matplotlib.figure.Figure at 0x7f492abef080>"
      ]
     },
     "metadata": {},
     "output_type": "display_data"
    }
   ],
   "source": [
    "plt.plot(rmse_array)\n",
    "plt.ylabel(\"RMSE\")\n",
    "plt.xlabel(\"Iteration\")\n",
    "plt.savefig(\"rmse.pdf\")\n",
    "plt.show()"
   ]
  },
  {
   "cell_type": "code",
   "execution_count": 13,
   "metadata": {},
   "outputs": [
    {
     "ename": "KeyboardInterrupt",
     "evalue": "",
     "output_type": "error",
     "traceback": [
      "\u001b[0;31m---------------------------------------------------------------------------\u001b[0m",
      "\u001b[0;31mKeyboardInterrupt\u001b[0m                         Traceback (most recent call last)",
      "\u001b[0;32m<ipython-input-13-6c1c8b44f676>\u001b[0m in \u001b[0;36m<module>\u001b[0;34m()\u001b[0m\n\u001b[1;32m      2\u001b[0m \u001b[0;32mfor\u001b[0m \u001b[0mk\u001b[0m \u001b[0;32min\u001b[0m \u001b[0;34m[\u001b[0m\u001b[0;36m10\u001b[0m\u001b[0;34m,\u001b[0m\u001b[0;36m20\u001b[0m\u001b[0;34m,\u001b[0m\u001b[0;36m50\u001b[0m\u001b[0;34m,\u001b[0m\u001b[0;36m100\u001b[0m\u001b[0;34m]\u001b[0m\u001b[0;34m:\u001b[0m\u001b[0;34m\u001b[0m\u001b[0m\n\u001b[1;32m      3\u001b[0m     \u001b[0;32mfor\u001b[0m \u001b[0mlbd\u001b[0m \u001b[0;32min\u001b[0m \u001b[0;34m[\u001b[0m\u001b[0;36m0\u001b[0m\u001b[0;34m,\u001b[0m \u001b[0;36m0.001\u001b[0m\u001b[0;34m,\u001b[0m \u001b[0;36m0.01\u001b[0m\u001b[0;34m,\u001b[0m \u001b[0;36m0.1\u001b[0m\u001b[0;34m]\u001b[0m\u001b[0;34m:\u001b[0m\u001b[0;34m\u001b[0m\u001b[0m\n\u001b[0;32m----> 4\u001b[0;31m         \u001b[0m_\u001b[0m\u001b[0;34m,\u001b[0m \u001b[0mrmse_arr\u001b[0m \u001b[0;34m=\u001b[0m \u001b[0mdecomposition\u001b[0m\u001b[0;34m(\u001b[0m\u001b[0mtrain_M\u001b[0m\u001b[0;34m,\u001b[0m \u001b[0mtest_X\u001b[0m\u001b[0;34m,\u001b[0m \u001b[0mtest_y\u001b[0m\u001b[0;34m,\u001b[0m \u001b[0mk\u001b[0m\u001b[0;34m=\u001b[0m\u001b[0mk\u001b[0m\u001b[0;34m,\u001b[0m \u001b[0mlbd\u001b[0m\u001b[0;34m=\u001b[0m\u001b[0mlbd\u001b[0m\u001b[0;34m,\u001b[0m \u001b[0mprint_every\u001b[0m\u001b[0;34m=\u001b[0m\u001b[0;36m10000\u001b[0m\u001b[0;34m)\u001b[0m\u001b[0;34m\u001b[0m\u001b[0m\n\u001b[0m\u001b[1;32m      5\u001b[0m         \u001b[0mdf\u001b[0m\u001b[0;34m.\u001b[0m\u001b[0mloc\u001b[0m\u001b[0;34m[\u001b[0m\u001b[0mk\u001b[0m\u001b[0;34m,\u001b[0m \u001b[0mlbd\u001b[0m\u001b[0;34m]\u001b[0m \u001b[0;34m=\u001b[0m \u001b[0mrmse_arr\u001b[0m\u001b[0;34m[\u001b[0m\u001b[0;34m-\u001b[0m\u001b[0;36m1\u001b[0m\u001b[0;34m]\u001b[0m\u001b[0;34m\u001b[0m\u001b[0m\n\u001b[1;32m      6\u001b[0m \u001b[0mdf\u001b[0m\u001b[0;34m\u001b[0m\u001b[0m\n",
      "\u001b[0;32m<ipython-input-9-eae148c4026d>\u001b[0m in \u001b[0;36mdecomposition\u001b[0;34m(X, test_X, test_y, k, lbd, learning_rate, print_every)\u001b[0m\n\u001b[1;32m     29\u001b[0m     \u001b[0;32mwhile\u001b[0m \u001b[0mdelta_loss\u001b[0m \u001b[0;34m>=\u001b[0m \u001b[0;36m100\u001b[0m\u001b[0;34m:\u001b[0m\u001b[0;34m\u001b[0m\u001b[0m\n\u001b[1;32m     30\u001b[0m         \u001b[0mdU\u001b[0m \u001b[0;34m=\u001b[0m \u001b[0;34m(\u001b[0m\u001b[0mA\u001b[0m \u001b[0;34m*\u001b[0m \u001b[0;34m(\u001b[0m\u001b[0mU\u001b[0m \u001b[0;34m@\u001b[0m \u001b[0mV\u001b[0m\u001b[0;34m.\u001b[0m\u001b[0mT\u001b[0m \u001b[0;34m-\u001b[0m \u001b[0mX\u001b[0m\u001b[0;34m)\u001b[0m\u001b[0;34m)\u001b[0m \u001b[0;34m@\u001b[0m \u001b[0mV\u001b[0m \u001b[0;34m+\u001b[0m \u001b[0;36m2\u001b[0m \u001b[0;34m*\u001b[0m \u001b[0mlbd\u001b[0m \u001b[0;34m*\u001b[0m \u001b[0mU\u001b[0m\u001b[0;34m\u001b[0m\u001b[0m\n\u001b[0;32m---> 31\u001b[0;31m         \u001b[0mdV\u001b[0m \u001b[0;34m=\u001b[0m \u001b[0;34m(\u001b[0m\u001b[0mA\u001b[0m \u001b[0;34m*\u001b[0m \u001b[0;34m(\u001b[0m\u001b[0mU\u001b[0m \u001b[0;34m@\u001b[0m \u001b[0mV\u001b[0m\u001b[0;34m.\u001b[0m\u001b[0mT\u001b[0m \u001b[0;34m-\u001b[0m \u001b[0mX\u001b[0m\u001b[0;34m)\u001b[0m\u001b[0;34m)\u001b[0m\u001b[0;34m.\u001b[0m\u001b[0mT\u001b[0m \u001b[0;34m@\u001b[0m \u001b[0mU\u001b[0m \u001b[0;34m+\u001b[0m \u001b[0;36m2\u001b[0m \u001b[0;34m*\u001b[0m \u001b[0mlbd\u001b[0m \u001b[0;34m*\u001b[0m \u001b[0mV\u001b[0m\u001b[0;34m\u001b[0m\u001b[0m\n\u001b[0m\u001b[1;32m     32\u001b[0m         \u001b[0mnew_U\u001b[0m \u001b[0;34m=\u001b[0m \u001b[0mU\u001b[0m \u001b[0;34m-\u001b[0m \u001b[0mlearning_rate\u001b[0m \u001b[0;34m*\u001b[0m \u001b[0mdU\u001b[0m\u001b[0;34m\u001b[0m\u001b[0m\n\u001b[1;32m     33\u001b[0m         \u001b[0mnew_V\u001b[0m \u001b[0;34m=\u001b[0m \u001b[0mV\u001b[0m \u001b[0;34m-\u001b[0m \u001b[0mlearning_rate\u001b[0m \u001b[0;34m*\u001b[0m \u001b[0mdV\u001b[0m\u001b[0;34m\u001b[0m\u001b[0m\n",
      "\u001b[0;31mKeyboardInterrupt\u001b[0m: "
     ]
    }
   ],
   "source": [
    "df = pd.DataFrame(index=[10,50,100], columns=[0, 0.001, 0.1])\n",
    "for k in [10,50,100]:\n",
    "    for lbd in [0, 0.001, 0.1]:\n",
    "        _, rmse_arr = decomposition(train_M, test_X, test_y, k=k, lbd=lbd, print_every=10000)\n",
    "        df.loc[k, lbd] = rmse_arr[-1]\n",
    "df"
   ]
  },
  {
   "cell_type": "code",
   "execution_count": 14,
   "metadata": {},
   "outputs": [
    {
     "data": {
      "text/html": [
       "<div>\n",
       "<style scoped>\n",
       "    .dataframe tbody tr th:only-of-type {\n",
       "        vertical-align: middle;\n",
       "    }\n",
       "\n",
       "    .dataframe tbody tr th {\n",
       "        vertical-align: top;\n",
       "    }\n",
       "\n",
       "    .dataframe thead th {\n",
       "        text-align: right;\n",
       "    }\n",
       "</style>\n",
       "<table border=\"1\" class=\"dataframe\">\n",
       "  <thead>\n",
       "    <tr style=\"text-align: right;\">\n",
       "      <th></th>\n",
       "      <th>0.0</th>\n",
       "      <th>0.001</th>\n",
       "      <th>0.01</th>\n",
       "      <th>0.1</th>\n",
       "    </tr>\n",
       "  </thead>\n",
       "  <tbody>\n",
       "    <tr>\n",
       "      <th>10</th>\n",
       "      <td>0.862085</td>\n",
       "      <td>0.862085</td>\n",
       "      <td>0.862091</td>\n",
       "      <td>0.862151</td>\n",
       "    </tr>\n",
       "    <tr>\n",
       "      <th>20</th>\n",
       "      <td>0.814773</td>\n",
       "      <td>0.812151</td>\n",
       "      <td>0.812157</td>\n",
       "      <td>0.812214</td>\n",
       "    </tr>\n",
       "    <tr>\n",
       "      <th>50</th>\n",
       "      <td>0.845369</td>\n",
       "      <td>0.84537</td>\n",
       "      <td>0.845378</td>\n",
       "      <td>0.845457</td>\n",
       "    </tr>\n",
       "    <tr>\n",
       "      <th>100</th>\n",
       "      <td>0.821299</td>\n",
       "      <td>NaN</td>\n",
       "      <td>NaN</td>\n",
       "      <td>NaN</td>\n",
       "    </tr>\n",
       "  </tbody>\n",
       "</table>\n",
       "</div>"
      ],
      "text/plain": [
       "        0.000     0.001     0.010     0.100\n",
       "10   0.862085  0.862085  0.862091  0.862151\n",
       "20   0.814773  0.812151  0.812157  0.812214\n",
       "50   0.845369   0.84537  0.845378  0.845457\n",
       "100  0.821299       NaN       NaN       NaN"
      ]
     },
     "execution_count": 14,
     "metadata": {},
     "output_type": "execute_result"
    }
   ],
   "source": [
    "df"
   ]
  },
  {
   "cell_type": "code",
   "execution_count": null,
   "metadata": {},
   "outputs": [],
   "source": []
  }
 ],
 "metadata": {
  "kernelspec": {
   "display_name": "Python 3",
   "language": "python",
   "name": "python3"
  },
  "language_info": {
   "codemirror_mode": {
    "name": "ipython",
    "version": 3
   },
   "file_extension": ".py",
   "mimetype": "text/x-python",
   "name": "python",
   "nbconvert_exporter": "python",
   "pygments_lexer": "ipython3",
   "version": "3.5.4"
  }
 },
 "nbformat": 4,
 "nbformat_minor": 2
}
